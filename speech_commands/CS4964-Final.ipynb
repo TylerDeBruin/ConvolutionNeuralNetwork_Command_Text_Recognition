{
 "cells": [
  {
   "cell_type": "markdown",
   "id": "afc016ea-9836-4c71-85d4-9834be4a0098",
   "metadata": {},
   "source": [
    "# CS 4964 - Final Project: Command Word Audio\n",
    "<div style=\"text-align: right; font-weight: bold;\"> Tyler DeBruin </div>\n",
    "<div style=\"text-align: right; font-weight: bold;\"> Nolan Angerbauer </div>\n",
    "<br>\n",
    "<div style=\"text-align: right; font-weight: bold;\"> 3/28/2024 </div>\n",
    "<br>\n",
    "\n",
    "\n",
    "<div style=\"text-align: center; font-weight: bold;\"> Final Project: Command Word Audio </div>\n",
    "\n",
    "### Abstract\n",
    "\n",
    "Utilizing Apache Spark, and a Command Word dataset provided by Huggingface.co we will build\n",
    "and train a machine learning model that can differentiate command words from non-command words, or\n",
    "silence and white noise. We provide a mechanism to forward audio into the model, and provide inference\n",
    "on the output command word.\n",
    "\n",
    "\n",
    "### Dataset\n",
    "https://arxiv.org/abs/1804.03209\n",
    "\n",
    "The dataset we will be using is from Huggingface.co. \n",
    "\n",
    "Repository: https://huggingface.co/datasets/speech_commands\n",
    "<br>\n",
    "As Per HuggingFace:\n",
    "<br>\n",
    "##### Language\n",
    "English (BCP-47 en)\n",
    "<br>\n",
    "##### Collection\n",
    "The audio files were collected using crowdsourcing. The goal was to gather examples of people speaking single-word commands, rather than conversational sentences, so they were prompted for individual words over the course of a five minute session. The dataset consists of people who have donated their voice online. \n",
    "<br><br>\n"
   ]
  },
  {
   "cell_type": "code",
   "execution_count": 1,
   "id": "15c41cb2-8d43-4d4b-9247-149ef6e1ae63",
   "metadata": {
    "scrolled": true
   },
   "outputs": [],
   "source": [
    "import os\n",
    "import numpy as np\n",
    "import librosa\n",
    "import soundfile\n",
    "from speech_commands import SpeechCommands\n",
    "from datasets import concatenate_datasets, load_dataset, load_from_disk\n",
    "from pyspark.sql.types import StructType, StructField, IntegerType, StringType, BinaryType, Row, BooleanType, DoubleType\n",
    "from pyspark.sql import SparkSession\n",
    "from pyspark.sql.functions import avg, stddev, col, expr\n",
    "\n",
    "from scipy.signal import wiener\n",
    "from skimage.restoration import denoise_wavelet\n",
    "import matplotlib.pyplot as plt"
   ]
  },
  {
   "cell_type": "code",
   "execution_count": 2,
   "id": "13af78c6-8f5f-427d-80b9-ce3af8806b95",
   "metadata": {},
   "outputs": [],
   "source": [
    "import torch\n",
    "import torch.nn as nn\n",
    "import torch.nn.functional as F\n",
    "import torch.optim as optim\n",
    "from torch.utils.data import DataLoader\n",
    "import torch.nn.init as init"
   ]
  },
  {
   "cell_type": "code",
   "execution_count": 3,
   "id": "9c51d32a-5912-4d8e-80fc-068006503888",
   "metadata": {},
   "outputs": [],
   "source": [
    "spark = SparkSession.builder.master(\"local[1]\") \\\n",
    "    .appName(\"Postgres\") \\\n",
    "    .config(\"spark.jars\", \"/final/postgresql-42.7.3.jar\") \\\n",
    "    .config(\"spark.sql.legacy.createHiveTableByDefault\", \"False\") \\\n",
    "    .getOrCreate()\n",
    "\n",
    "url = \"jdbc:postgresql://postgres:5432/cs4964\"\n",
    "\n",
    "properties = {\n",
    "    \"user\": \"root\",\n",
    "    \"password\": \"password\",\n",
    "    \"driver\": \"org.postgresql.Driver\"\n",
    "}"
   ]
  },
  {
   "cell_type": "code",
   "execution_count": 4,
   "id": "eb540e85-268c-4244-9325-87db7e7f2ff9",
   "metadata": {},
   "outputs": [
    {
     "data": {
      "application/vnd.jupyter.widget-view+json": {
       "model_id": "1c92ced259354ce699ce4af151674b19",
       "version_major": 2,
       "version_minor": 0
      },
      "text/plain": [
       "Saving the dataset (0/6 shards):   0%|          | 0/84848 [00:00<?, ? examples/s]"
      ]
     },
     "metadata": {},
     "output_type": "display_data"
    },
    {
     "data": {
      "application/vnd.jupyter.widget-view+json": {
       "model_id": "f13d8d501742490f969fc691a8085f95",
       "version_major": 2,
       "version_minor": 0
      },
      "text/plain": [
       "Saving the dataset (0/1 shards):   0%|          | 0/9982 [00:00<?, ? examples/s]"
      ]
     },
     "metadata": {},
     "output_type": "display_data"
    },
    {
     "data": {
      "application/vnd.jupyter.widget-view+json": {
       "model_id": "f5bd306c0e6e440b9e67b7fc20388de2",
       "version_major": 2,
       "version_minor": 0
      },
      "text/plain": [
       "Saving the dataset (0/1 shards):   0%|          | 0/4890 [00:00<?, ? examples/s]"
      ]
     },
     "metadata": {},
     "output_type": "display_data"
    }
   ],
   "source": [
    "dataset = load_dataset(\"speech_commands\", \"v0.02\", keep_in_memory=False, num_proc=2)\n",
    "dataset.save_to_disk(\"speechCommands\")\n",
    "dataset = load_from_disk(\"speechCommands\")\n",
    "dataset = dataset.with_format(\"torch\")"
   ]
  },
  {
   "cell_type": "code",
   "execution_count": 5,
   "id": "62fabdc1-97e5-4c64-9318-0dac7bb1df94",
   "metadata": {},
   "outputs": [
    {
     "data": {
      "text/plain": [
       "\"\\ntraining = dataset['train']\\nvalidation = dataset['validation']\\ncombinedDataset = concatenate_datasets([training, validation])\\n\""
      ]
     },
     "execution_count": 5,
     "metadata": {},
     "output_type": "execute_result"
    }
   ],
   "source": [
    "\"\"\"\n",
    "training = dataset['train']\n",
    "validation = dataset['validation']\n",
    "combinedDataset = concatenate_datasets([training, validation])\n",
    "\"\"\""
   ]
  },
  {
   "cell_type": "code",
   "execution_count": 6,
   "id": "cb5d449e-9209-4786-8d4f-72b057254329",
   "metadata": {},
   "outputs": [
    {
     "data": {
      "text/plain": [
       "DatasetDict({\n",
       "    train: Dataset({\n",
       "        features: ['file', 'audio', 'label', 'is_unknown', 'speaker_id', 'utterance_id'],\n",
       "        num_rows: 84848\n",
       "    })\n",
       "    validation: Dataset({\n",
       "        features: ['file', 'audio', 'label', 'is_unknown', 'speaker_id', 'utterance_id'],\n",
       "        num_rows: 9982\n",
       "    })\n",
       "    test: Dataset({\n",
       "        features: ['file', 'audio', 'label', 'is_unknown', 'speaker_id', 'utterance_id'],\n",
       "        num_rows: 4890\n",
       "    })\n",
       "})"
      ]
     },
     "execution_count": 6,
     "metadata": {},
     "output_type": "execute_result"
    }
   ],
   "source": [
    "dataset"
   ]
  },
  {
   "cell_type": "code",
   "execution_count": 7,
   "id": "164e4f07-7944-47c5-9b24-34f55337b94f",
   "metadata": {},
   "outputs": [
    {
     "data": {
      "text/plain": [
       "{'file': 'backward/2356b88d_nohash_0.wav',\n",
       " 'audio': {'path': '2356b88d_nohash_0.wav',\n",
       "  'array': tensor([ 0.0000,  0.0000,  0.0000,  ..., -0.0001, -0.0002, -0.0001]),\n",
       "  'sampling_rate': tensor(16000)},\n",
       " 'label': tensor(30),\n",
       " 'is_unknown': tensor(True),\n",
       " 'speaker_id': '2356b88d',\n",
       " 'utterance_id': tensor(0)}"
      ]
     },
     "execution_count": 7,
     "metadata": {},
     "output_type": "execute_result"
    }
   ],
   "source": [
    "dataset['train'][0]"
   ]
  },
  {
   "cell_type": "markdown",
   "id": "723e36f0-0ab0-4af6-8271-48cdfd3db4aa",
   "metadata": {},
   "source": [
    "https://huggingface.co/docs/datasets/en/package_reference/main_classes"
   ]
  },
  {
   "cell_type": "code",
   "execution_count": 8,
   "id": "af4cd32f-8ca1-44c7-a0b0-abd1af9852c2",
   "metadata": {},
   "outputs": [
    {
     "data": {
      "text/plain": [
       "'\\nfileId = 0\\nbatched = 0\\naudio_rows = []\\ncommand_rows = []\\nfor batch_idx, data in enumerate(dataloader):\\n    print(data)\\n    fileId += 1\\n    batched += 1\\n    # Process each item in the batch\\n    command_rows.append(Row(\\n        fileId=fileId,\\n        file=data[\\'file\\'][0],\\n        label=data[\\'label\\'].item(),\\n        is_unknown=data[\\'is_unknown\\'].item(),\\n        speaker_id=data[\\'speaker_id\\'][0],\\n        utterance_id=data[\\'utterance_id\\'].item(),\\n    ))\\n\\n    audio_rows.append(Row(\\n        fileid=fileId,\\n        Audio=np.array(data[\\'audio\\'][\\'array\\'][0], dtype=np.int16).tobytes(),\\n        SamplingRate=data[\\'audio\\'][\\'sampling_rate\\'].item()\\n    ))\\n    \\n    # Create DataFrames from the lists of rows\\n\\n    # Write to PostgreSQL\\n    if(batched % 100 == 0):\\n\\n        CommandWords_DF = spark.createDataFrame(command_rows, StructType([\\n            StructField(\"fileId\", IntegerType(), False),\\n            StructField(\"file\", StringType(), False),\\n            StructField(\"label\", IntegerType(), False),\\n            StructField(\"is_unknown\", BooleanType(), False),\\n            StructField(\"speaker_id\", StringType(), False),\\n            StructField(\"utterance_id\", IntegerType(), False)\\n        ]))\\n        CommandWords_DF.write.jdbc(url=url, table=\"AudioFile\", mode=\"append\", properties=properties)\\n    \\n        Audio_DF = spark.createDataFrame(audio_rows, StructType([\\n            StructField(\"fileid\", IntegerType(), False),\\n            StructField(\"Audio\", BinaryType(), False),\\n            StructField(\"SamplingRate\", IntegerType(), False),\\n        ]))\\n\\n\\n        Audio_DF.write.jdbc(url=url, table=\"AudioBytes\", mode=\"append\", properties=properties)\\n        command_rows.clear()\\n        audio_rows.clear()\\n'"
      ]
     },
     "execution_count": 8,
     "metadata": {},
     "output_type": "execute_result"
    }
   ],
   "source": [
    "\"\"\"\n",
    "fileId = 0\n",
    "batched = 0\n",
    "audio_rows = []\n",
    "command_rows = []\n",
    "for batch_idx, data in enumerate(dataloader):\n",
    "    print(data)\n",
    "    fileId += 1\n",
    "    batched += 1\n",
    "    # Process each item in the batch\n",
    "    command_rows.append(Row(\n",
    "        fileId=fileId,\n",
    "        file=data['file'][0],\n",
    "        label=data['label'].item(),\n",
    "        is_unknown=data['is_unknown'].item(),\n",
    "        speaker_id=data['speaker_id'][0],\n",
    "        utterance_id=data['utterance_id'].item(),\n",
    "    ))\n",
    "\n",
    "    audio_rows.append(Row(\n",
    "        fileid=fileId,\n",
    "        Audio=np.array(data['audio']['array'][0], dtype=np.int16).tobytes(),\n",
    "        SamplingRate=data['audio']['sampling_rate'].item()\n",
    "    ))\n",
    "    \n",
    "    # Create DataFrames from the lists of rows\n",
    "\n",
    "    # Write to PostgreSQL\n",
    "    if(batched % 100 == 0):\n",
    "\n",
    "        CommandWords_DF = spark.createDataFrame(command_rows, StructType([\n",
    "            StructField(\"fileId\", IntegerType(), False),\n",
    "            StructField(\"file\", StringType(), False),\n",
    "            StructField(\"label\", IntegerType(), False),\n",
    "            StructField(\"is_unknown\", BooleanType(), False),\n",
    "            StructField(\"speaker_id\", StringType(), False),\n",
    "            StructField(\"utterance_id\", IntegerType(), False)\n",
    "        ]))\n",
    "        CommandWords_DF.write.jdbc(url=url, table=\"AudioFile\", mode=\"append\", properties=properties)\n",
    "    \n",
    "        Audio_DF = spark.createDataFrame(audio_rows, StructType([\n",
    "            StructField(\"fileid\", IntegerType(), False),\n",
    "            StructField(\"Audio\", BinaryType(), False),\n",
    "            StructField(\"SamplingRate\", IntegerType(), False),\n",
    "        ]))\n",
    "\n",
    "\n",
    "        Audio_DF.write.jdbc(url=url, table=\"AudioBytes\", mode=\"append\", properties=properties)\n",
    "        command_rows.clear()\n",
    "        audio_rows.clear()\n",
    "\"\"\""
   ]
  },
  {
   "cell_type": "markdown",
   "id": "3e4b0750-abac-49fc-b6f9-d0295ac126c5",
   "metadata": {},
   "source": [
    "### Preprocessing\n",
    "\n",
    "To begin curating the data, we start by finding all data points outside of 16kHz, and resampling those.\n",
    "That includes both upsampling, and downsampling any audio files.\n",
    "\n",
    "Arrange: https://numpy.org/doc/stable/reference/generated/numpy.arange.html\n",
    "Interp: https://numpy.org/doc/stable/reference/generated/numpy.interp.html\n",
    "\n",
    "\n",
    "##### MelSpectrogram\n",
    "\n",
    "https://pytorch.org/audio/main/tutorials/audio_feature_extractions_tutorial.html#sphx-glr-tutorials-audio-feature-extractions-tutorial-py\n",
    "https://arxiv.org/pdf/2204.02841"
   ]
  },
  {
   "cell_type": "code",
   "execution_count": 9,
   "id": "38815e80-54bf-4794-a150-44a52519161f",
   "metadata": {},
   "outputs": [],
   "source": [
    "import torchaudio.transforms as T\n",
    "\n",
    "def preprocess_audio(row):\n",
    "\n",
    "    #[channel, time]\n",
    "    #All of our audio files are expected to be [1, 16000]\n",
    "    waveform = row['audio']['array'].unsqueeze(0)\n",
    "    \n",
    "    sampleRate = row['audio']['sampling_rate']\n",
    "    \n",
    "    melSpectrogramTransformer = T.MelSpectrogram(\n",
    "        sample_rate=sampleRate,\n",
    "        n_fft=1024,\n",
    "        hop_length=516,\n",
    "        n_mels=64\n",
    "    )\n",
    "    \n",
    "    melSpectrogram = melSpectrogramTransformer(waveform)\n",
    "    \n",
    "    #print('melSpectrogram', melSpectrogram.shape, 'melSpectrogramDenoised', melSpectrogramDenoised.shape, 'melSpectrogram.size(1)', melSpectrogram.size(1))\n",
    "    #Pad all of the Spectograms to 32\n",
    "    if melSpectrogram.size(2) < 32:\n",
    "        pad_amount = 32 - melSpectrogram.size(2)\n",
    "        melSpectrogram = F.pad(melSpectrogram, (0, pad_amount))\n",
    "    elif melSpectrogram.size(2) > 32:\n",
    "        melSpectrogram = melSpectrogram[:, :, :32]\n",
    "\n",
    "\n",
    "    #DENOISING\n",
    "    #denoisedWaveform = torch.from_numpy(wiener(waveform.squeeze().numpy(), mysize=254)).to(torch.float32).unsqueeze(0)\n",
    "    curatedWaveform = waveform.squeeze()\n",
    "\n",
    "    min_val = torch.min(curatedWaveform)\n",
    "    max_val = torch.max(curatedWaveform)\n",
    "    if max_val > min_val:\n",
    "        curatedWaveform = (curatedWaveform - min_val) / (max_val - min_val)\n",
    "\n",
    "    denoisedWaveform = denoise_wavelet(\n",
    "        curatedWaveform.numpy(),\n",
    "        channel_axis=None,\n",
    "        method='BayesShrink',\n",
    "        mode='soft',\n",
    "        rescale_sigma=True,\n",
    "    )\n",
    "\n",
    "    denoisedWaveform = torch.from_numpy(denoisedWaveform).to(torch.float32).unsqueeze(0)\n",
    "        \n",
    "    melSpectrogramDenoised = melSpectrogramTransformer(denoisedWaveform)\n",
    "\n",
    "    if melSpectrogramDenoised.size(2) < 32:\n",
    "        pad_amount = 32 - melSpectrogramDenoised.size(2)\n",
    "        melSpectrogramDenoised = F.pad(melSpectrogramDenoised, (0, pad_amount))\n",
    "    elif melSpectrogramDenoised.size(2) > 32:\n",
    "        melSpectrogramDenoised = melSpectrogramDenoised[:, :, :32]\n",
    "    \n",
    "    amplitudeToDB = T.AmplitudeToDB()\n",
    "\n",
    "    result = {\n",
    "        'spectrogram': amplitudeToDB(melSpectrogram).squeeze(0), \n",
    "        'spectrogramDenoised': amplitudeToDB(melSpectrogramDenoised).squeeze(0), \n",
    "        'label': row['label'],\n",
    "        'key': row['file']\n",
    "    }\n",
    "\n",
    "    return result"
   ]
  },
  {
   "cell_type": "code",
   "execution_count": 10,
   "id": "06b1e9d5-370b-4de5-8afb-94e4aab9f6fc",
   "metadata": {},
   "outputs": [
    {
     "name": "stderr",
     "output_type": "stream",
     "text": [
      "Parameter 'function'=<function preprocess_audio at 0x7f11b9436de0> of the transform datasets.arrow_dataset.Dataset._map_single couldn't be hashed properly, a random hash was used instead. Make sure your transforms and parameters are serializable with pickle or dill for the dataset fingerprinting and caching to work. If you reuse this transform, the caching mechanism will consider it to be different from the previous calls and recompute everything. This warning is only showed once. Subsequent hashing failures won't be showed.\n"
     ]
    },
    {
     "data": {
      "application/vnd.jupyter.widget-view+json": {
       "model_id": "4078a3d90fcf43b2a069735b52c7033e",
       "version_major": 2,
       "version_minor": 0
      },
      "text/plain": [
       "Map:   0%|          | 0/84848 [00:00<?, ? examples/s]"
      ]
     },
     "metadata": {},
     "output_type": "display_data"
    },
    {
     "data": {
      "application/vnd.jupyter.widget-view+json": {
       "model_id": "88148699be7140d499a52bdcb3c63fa9",
       "version_major": 2,
       "version_minor": 0
      },
      "text/plain": [
       "Map:   0%|          | 0/9982 [00:00<?, ? examples/s]"
      ]
     },
     "metadata": {},
     "output_type": "display_data"
    },
    {
     "data": {
      "application/vnd.jupyter.widget-view+json": {
       "model_id": "a1f71a7debaa41a198b1b7cb11c96cea",
       "version_major": 2,
       "version_minor": 0
      },
      "text/plain": [
       "Map:   0%|          | 0/4890 [00:00<?, ? examples/s]"
      ]
     },
     "metadata": {},
     "output_type": "display_data"
    }
   ],
   "source": [
    "feature_Dataset = dataset.map(preprocess_audio)"
   ]
  },
  {
   "cell_type": "code",
   "execution_count": 11,
   "id": "147bd367-739d-4c62-a440-f3e2f173a4cb",
   "metadata": {},
   "outputs": [],
   "source": [
    "def collate(batch):\n",
    "    spectrograms = torch.stack([item['spectrogram'] for item in batch])\n",
    "    labels = torch.tensor([item['label'] for item in batch])\n",
    "    key = [item['key'] for item in batch]\n",
    "    \n",
    "    return spectrograms, labels, key"
   ]
  },
  {
   "cell_type": "code",
   "execution_count": 12,
   "id": "9eab1b28-f597-4d51-b6ea-2c2981102006",
   "metadata": {},
   "outputs": [],
   "source": [
    "train_DataLoader = DataLoader(feature_Dataset['train'], batch_size=32, shuffle=True, collate_fn=collate)\n",
    "test_DataLoader = DataLoader(feature_Dataset['test'], batch_size=32, shuffle=True, collate_fn=collate)\n",
    "validation_DataLoader = DataLoader(feature_Dataset['validation'], batch_size=32, shuffle=True, collate_fn=collate)"
   ]
  },
  {
   "cell_type": "code",
   "execution_count": 13,
   "id": "0badf4f6-dab4-403b-aa81-1129bfaa8868",
   "metadata": {},
   "outputs": [],
   "source": [
    "def collateDenoised(batch):\n",
    "    spectrograms = torch.stack([item['spectrogramDenoised'] for item in batch])\n",
    "    labels = torch.tensor([item['label'] for item in batch])\n",
    "    key = [item['key'] for item in batch]\n",
    "    \n",
    "    return spectrograms, labels, key"
   ]
  },
  {
   "cell_type": "code",
   "execution_count": 14,
   "id": "7dd5a3de-fabf-4d12-80fd-1d1878aa7ca5",
   "metadata": {},
   "outputs": [],
   "source": [
    "train_DataLoaderDenoised = DataLoader(feature_Dataset['train'], batch_size=32, shuffle=True, collate_fn=collateDenoised)\n",
    "test_DataLoaderDenoised = DataLoader(feature_Dataset['test'], batch_size=32, shuffle=True, collate_fn=collateDenoised)\n",
    "validation_DataLoaderDenoised = DataLoader(feature_Dataset['validation'], batch_size=32, shuffle=True, collate_fn=collateDenoised)"
   ]
  },
  {
   "cell_type": "markdown",
   "id": "59c77724-7dbe-404f-95a4-4c1c777afc90",
   "metadata": {},
   "source": [
    "https://pytorch.org/audio/main/tutorials/audio_feature_extractions_tutorial.html#sphx-glr-tutorials-audio-feature-extractions-tutorial-py"
   ]
  },
  {
   "cell_type": "code",
   "execution_count": 15,
   "id": "c83dbec6-7bfe-4d85-990e-d3f698b62f28",
   "metadata": {},
   "outputs": [],
   "source": [
    "def plot_waveform(waveform, sr, title=\"Waveform\", ax=None):\n",
    "    waveform = waveform.numpy()\n",
    "\n",
    "    num_channels, num_frames = waveform.shape\n",
    "    time_axis = torch.arange(0, num_frames) / sr\n",
    "\n",
    "    if ax is None:\n",
    "        _, ax = plt.subplots(num_channels, 1)\n",
    "    ax.plot(time_axis, waveform[0], linewidth=1)\n",
    "    ax.grid(True)\n",
    "    ax.set_xlim([0, time_axis[-1]])\n",
    "    ax.set_title(title)\n",
    "\n",
    "def plot_spectrogram(specgram, title=None, ylabel=\"freq_bin\", ax=None):\n",
    "    if ax is None:\n",
    "        _, ax = plt.subplots(1, 1)\n",
    "    if title is not None:\n",
    "        ax.set_title(title)\n",
    "    ax.set_ylabel(ylabel)\n",
    "    ax.imshow(librosa.power_to_db(specgram), origin=\"lower\", aspect=\"auto\", interpolation=\"nearest\")\n"
   ]
  },
  {
   "cell_type": "code",
   "execution_count": 16,
   "id": "420e2cb1-3f49-42a0-bc13-8677ae10c58f",
   "metadata": {},
   "outputs": [
    {
     "name": "stdout",
     "output_type": "stream",
     "text": [
      "spectrograms.shape torch.Size([64, 64, 32])\n",
      "torch.Size([64])\n"
     ]
    },
    {
     "data": {
      "image/png": "[encoded data removed]",
      "text/plain": [
       "<Figure size 640x480 with 1 Axes>"
      ]
     },
     "metadata": {},
     "output_type": "display_data"
    },
    {
     "data": {
      "image/png": "[encoded data removed]",
      "text/plain": [
       "<Figure size 640x480 with 1 Axes>"
      ]
     },
     "metadata": {},
     "output_type": "display_data"
    }
   ],
   "source": [
    "waveForm = feature_Dataset['train'][50]['audio']['array'].unsqueeze(0)\n",
    "plot_waveform(waveForm, feature_Dataset['train'][50]['audio']['sampling_rate'])\n",
    "plot_spectrogram(preprocess_audio(feature_Dataset['train'][50])['spectrogram'])\n",
    "\n",
    "for spectrograms, labels, key in train_DataLoader:\n",
    "    print('spectrograms.shape', spectrograms.shape)\n",
    "    #print('spectrograms', spectrograms) \n",
    "    print(labels.shape)\n",
    "    break"
   ]
  },
  {
   "cell_type": "code",
   "execution_count": 17,
   "id": "84477b5f-e8a2-470c-8c2d-c8c21715c930",
   "metadata": {},
   "outputs": [
    {
     "data": {
      "image/png": "[encoded data removed]",
      "text/plain": [
       "<Figure size 640x480 with 1 Axes>"
      ]
     },
     "metadata": {},
     "output_type": "display_data"
    }
   ],
   "source": [
    "plot_spectrogram(preprocess_audio(feature_Dataset['train'][50])['spectrogramDenoised'])"
   ]
  },
  {
   "cell_type": "markdown",
   "id": "b2133f70-7ce6-4cb9-baa7-8bafbe51a11c",
   "metadata": {},
   "source": [
    "### Convolution Neural Network\n",
    "https://en.wikipedia.org/wiki/Convolutional_neural_network"
   ]
  },
  {
   "cell_type": "code",
   "execution_count": 18,
   "id": "4310dfe8-63b2-4fd7-a7ec-2070ed19b6b4",
   "metadata": {},
   "outputs": [
    {
     "name": "stdout",
     "output_type": "stream",
     "text": [
      "CUDA not available. Using CPU.\n"
     ]
    }
   ],
   "source": [
    "torch.manual_seed(42)\n",
    "\n",
    "if torch.cuda.is_available():\n",
    "    device = torch.device(\"cuda\")\n",
    "    torch.cuda.manual_seed(42)\n",
    "    torch.cuda.manual_seed_all(42)\n",
    "    print(\"CUDA is available. Using GPU.\")\n",
    "else:\n",
    "    device = torch.device(\"cpu\")\n",
    "    print(\"CUDA not available. Using CPU.\")\n",
    "\n",
    "class CommandWordCNN(nn.Module):\n",
    "    def __init__(self, numberOfClasses: int):\n",
    "        super(CommandWordCNN, self).__init__()\n",
    "\n",
    "        self.conv1 = nn.Conv2d(1, 16, kernel_size=3, stride=1, padding=1)  # Only 1 input channel\n",
    "        self.pool = nn.MaxPool2d(2, 2)\n",
    "        self.conv2 = nn.Conv2d(16, 32, kernel_size=3, stride=1, padding=1)\n",
    "\n",
    "        self.w_0 = nn.Linear(4096, 128)\n",
    "        self.w_1 = nn.Linear(128, numberOfClasses)\n",
    "\n",
    "        init.xavier_uniform_(self.conv1.weight)\n",
    "        init.xavier_uniform_(self.conv2.weight)\n",
    "        init.xavier_uniform_(self.w_0.weight)\n",
    "        init.xavier_uniform_(self.w_1.weight)\n",
    "\n",
    "    def forward(self, x):\n",
    "        #[batch, melSpectogogramCoef, time]\n",
    "        x = self.pool(F.relu(self.conv1(x)))\n",
    "        x = self.pool(F.relu(self.conv2(x)))\n",
    "        x = torch.flatten(x, 1)\n",
    "        \n",
    "        return self.w_1(F.relu(self.w_0(x)))"
   ]
  },
  {
   "cell_type": "code",
   "execution_count": 19,
   "id": "dc8811ee-f87d-4a8c-b9fd-56f420128ede",
   "metadata": {},
   "outputs": [
    {
     "name": "stdout",
     "output_type": "stream",
     "text": [
      "----Epoch 0, Step [0], Loss: 17.668062210083008, Accuracy: 6.25%\n",
      "----Epoch 0, Step [100], Loss: 3.0229499340057373, Accuracy: 21.875%\n",
      "----Epoch 0, Step [200], Loss: 2.4398558139801025, Accuracy: 31.25%\n",
      "----Epoch 0, Step [300], Loss: 1.5749859809875488, Accuracy: 59.375%\n",
      "----Epoch 0, Step [400], Loss: 1.4809722900390625, Accuracy: 56.25%\n",
      "----Epoch 0, Step [500], Loss: 0.9901881814002991, Accuracy: 71.875%\n",
      "----Epoch 0, Step [600], Loss: 1.1157875061035156, Accuracy: 67.1875%\n",
      "----Epoch 0, Step [700], Loss: 0.7203691005706787, Accuracy: 79.6875%\n",
      "----Epoch 0, Step [800], Loss: 0.9524070620536804, Accuracy: 73.4375%\n",
      "----Epoch 0, Step [900], Loss: 0.7903420329093933, Accuracy: 81.25%\n",
      "----Epoch 0, Step [1000], Loss: 0.9585105776786804, Accuracy: 68.75%\n",
      "----Epoch 0, Step [1100], Loss: 0.8158795237541199, Accuracy: 67.1875%\n",
      "----Epoch 0, Step [1200], Loss: 0.5607537627220154, Accuracy: 82.8125%\n",
      "----Epoch 0, Step [1300], Loss: 0.7422583699226379, Accuracy: 78.125%\n",
      "Epoch [0] - Validation Accuracy: 80.68%\n",
      "----Epoch 1, Step [0], Loss: 0.5548914670944214, Accuracy: 79.6875%\n",
      "----Epoch 1, Step [100], Loss: 0.5630788803100586, Accuracy: 81.25%\n",
      "----Epoch 1, Step [200], Loss: 0.6293731927871704, Accuracy: 85.9375%\n",
      "----Epoch 1, Step [300], Loss: 0.6246017217636108, Accuracy: 82.8125%\n",
      "----Epoch 1, Step [400], Loss: 0.3264527916908264, Accuracy: 87.5%\n",
      "----Epoch 1, Step [500], Loss: 0.7558367848396301, Accuracy: 76.5625%\n",
      "----Epoch 1, Step [600], Loss: 0.5862451195716858, Accuracy: 79.6875%\n",
      "----Epoch 1, Step [700], Loss: 0.7875842452049255, Accuracy: 78.125%\n",
      "----Epoch 1, Step [800], Loss: 0.44200798869132996, Accuracy: 89.0625%\n",
      "----Epoch 1, Step [900], Loss: 0.4673174023628235, Accuracy: 85.9375%\n",
      "----Epoch 1, Step [1000], Loss: 0.9114311933517456, Accuracy: 79.6875%\n",
      "----Epoch 1, Step [1100], Loss: 0.8177855014801025, Accuracy: 81.25%\n",
      "----Epoch 1, Step [1200], Loss: 0.7073290944099426, Accuracy: 78.125%\n",
      "----Epoch 1, Step [1300], Loss: 0.6078885197639465, Accuracy: 81.25%\n",
      "Epoch [1] - Validation Accuracy: 84.52%\n",
      "----Epoch 2, Step [0], Loss: 0.6739433407783508, Accuracy: 79.6875%\n",
      "----Epoch 2, Step [100], Loss: 0.4159819483757019, Accuracy: 90.625%\n",
      "----Epoch 2, Step [200], Loss: 0.27506595849990845, Accuracy: 90.625%\n",
      "----Epoch 2, Step [300], Loss: 0.4787839651107788, Accuracy: 87.5%\n",
      "----Epoch 2, Step [400], Loss: 0.2566702961921692, Accuracy: 93.75%\n",
      "----Epoch 2, Step [500], Loss: 0.3231219947338104, Accuracy: 87.5%\n",
      "----Epoch 2, Step [600], Loss: 0.4109043478965759, Accuracy: 85.9375%\n",
      "----Epoch 2, Step [700], Loss: 0.23181651532649994, Accuracy: 92.1875%\n",
      "----Epoch 2, Step [800], Loss: 0.33601394295692444, Accuracy: 92.1875%\n",
      "----Epoch 2, Step [900], Loss: 0.42405518889427185, Accuracy: 89.0625%\n",
      "----Epoch 2, Step [1000], Loss: 0.40116631984710693, Accuracy: 90.625%\n",
      "----Epoch 2, Step [1100], Loss: 0.32977795600891113, Accuracy: 90.625%\n",
      "----Epoch 2, Step [1200], Loss: 0.33368757367134094, Accuracy: 90.625%\n",
      "----Epoch 2, Step [1300], Loss: 0.32867249846458435, Accuracy: 90.625%\n",
      "Epoch [2] - Validation Accuracy: 86.02%\n",
      "----Epoch 3, Step [0], Loss: 0.40275245904922485, Accuracy: 90.625%\n",
      "----Epoch 3, Step [100], Loss: 0.28733816742897034, Accuracy: 90.625%\n",
      "----Epoch 3, Step [200], Loss: 0.5197027325630188, Accuracy: 84.375%\n",
      "----Epoch 3, Step [300], Loss: 0.29043522477149963, Accuracy: 92.1875%\n",
      "----Epoch 3, Step [400], Loss: 0.43566733598709106, Accuracy: 87.5%\n",
      "----Epoch 3, Step [500], Loss: 0.17436915636062622, Accuracy: 95.3125%\n",
      "----Epoch 3, Step [600], Loss: 0.41906043887138367, Accuracy: 84.375%\n",
      "----Epoch 3, Step [700], Loss: 0.23294173181056976, Accuracy: 93.75%\n",
      "----Epoch 3, Step [800], Loss: 0.3206634521484375, Accuracy: 90.625%\n",
      "----Epoch 3, Step [900], Loss: 0.17440062761306763, Accuracy: 95.3125%\n",
      "----Epoch 3, Step [1000], Loss: 0.21944057941436768, Accuracy: 90.625%\n",
      "----Epoch 3, Step [1100], Loss: 0.5144488215446472, Accuracy: 85.9375%\n",
      "----Epoch 3, Step [1200], Loss: 0.32504796981811523, Accuracy: 92.1875%\n",
      "----Epoch 3, Step [1300], Loss: 0.24825124442577362, Accuracy: 89.0625%\n",
      "Epoch [3] - Validation Accuracy: 86.17%\n",
      "----Epoch 4, Step [0], Loss: 0.4038991928100586, Accuracy: 89.0625%\n",
      "----Epoch 4, Step [100], Loss: 0.20804283022880554, Accuracy: 93.75%\n",
      "----Epoch 4, Step [200], Loss: 0.2665140628814697, Accuracy: 89.0625%\n",
      "----Epoch 4, Step [300], Loss: 0.25287485122680664, Accuracy: 90.625%\n",
      "----Epoch 4, Step [400], Loss: 0.10803872346878052, Accuracy: 96.875%\n",
      "----Epoch 4, Step [500], Loss: 0.37516528367996216, Accuracy: 85.9375%\n",
      "----Epoch 4, Step [600], Loss: 0.13337145745754242, Accuracy: 95.3125%\n",
      "----Epoch 4, Step [700], Loss: 0.29692181944847107, Accuracy: 92.1875%\n",
      "----Epoch 4, Step [800], Loss: 0.29175445437431335, Accuracy: 90.625%\n",
      "----Epoch 4, Step [900], Loss: 0.4094645380973816, Accuracy: 87.5%\n",
      "----Epoch 4, Step [1000], Loss: 0.3969133794307709, Accuracy: 87.5%\n",
      "----Epoch 4, Step [1100], Loss: 0.3749852478504181, Accuracy: 90.625%\n",
      "----Epoch 4, Step [1200], Loss: 0.07269424945116043, Accuracy: 98.4375%\n",
      "----Epoch 4, Step [1300], Loss: 0.43392401933670044, Accuracy: 87.5%\n",
      "Epoch [4] - Validation Accuracy: 85.85%\n",
      "Completed Training [4] - Test Accuracy: 76.93%\n"
     ]
    }
   ],
   "source": [
    "commandWord = CommandWordCNN(36)\n",
    "\n",
    "crossEntropy = nn.CrossEntropyLoss()\n",
    "optimizer = optim.Adam(commandWord.parameters(), lr=0.001)\n",
    "\n",
    "epochs = 5\n",
    "\n",
    "# Training loop\n",
    "for epoch in range(epochs): \n",
    "\n",
    "    command_rows = []\n",
    "    for i, (spectogram, labels, key) in enumerate(train_DataLoader):\n",
    "        \n",
    "        #print(spectogram.unsqueeze(1).shape)\n",
    "        optimizer.zero_grad()\n",
    "        \n",
    "        logits = commandWord(spectogram.unsqueeze(1))\n",
    "\n",
    "        loss = crossEntropy(logits, labels)\n",
    "        \n",
    "        loss.backward()\n",
    "        \n",
    "        optimizer.step()\n",
    "\n",
    "        probabilities = torch.softmax(logits, dim=1)\n",
    "\n",
    "        confidence, predicted = torch.max(probabilities, 1)  \n",
    "        \n",
    "        trainingSaveIndex = -1\n",
    "        for label in labels:    \n",
    "            trainingSaveIndex += 1\n",
    "\n",
    "        if i % 100 == 0:\n",
    "            correct = 0\n",
    "            labelIndex = 0\n",
    "            for label in labels:\n",
    "                if(predicted[labelIndex] == labels[labelIndex]):\n",
    "                   correct += 1 \n",
    "                labelIndex += 1\n",
    "     \n",
    "            accuracy = (correct / labels.size(0) ) * 100\n",
    "\n",
    "            print(f'----Epoch {epoch}, Step [{i}], Loss: {loss.item()}, Accuracy: {accuracy}%')\n",
    "\n",
    "\n",
    "    commandWord.eval()\n",
    "    total = 0\n",
    "    correct = 0\n",
    "    with torch.no_grad():\n",
    "        for spectrogram, labels, key in validation_DataLoader:\n",
    "            logits = commandWord(spectrogram.unsqueeze(1)) \n",
    "            predicted = torch.argmax(logits, 1)  \n",
    "\n",
    "            labelIndex = 0\n",
    "            for label in labels:\n",
    "                if(predicted[labelIndex] == labels[labelIndex]):\n",
    "                   correct += 1 \n",
    "                labelIndex += 1\n",
    "                \n",
    "            total += labels.size(0)\n",
    "            \n",
    "    commandWord.train()\n",
    "    \n",
    "    accuracy = (correct / total ) * 100\n",
    "    \n",
    "    print(f'Epoch [{epoch}] - Validation Accuracy: {accuracy:.2f}%')\n",
    "\n",
    "commandWord.eval()\n",
    "total = 0\n",
    "correct = 0\n",
    "with torch.no_grad(): \n",
    "    for spectrogram, labels, key in test_DataLoader:\n",
    "        logits = commandWord(spectrogram.unsqueeze(1)) \n",
    "        predicted = torch.argmax(logits, 1)  \n",
    "\n",
    "        labelIndex = 0\n",
    "        for label in labels:\n",
    "            if(predicted[labelIndex] == labels[labelIndex]):\n",
    "               correct += 1 \n",
    "            labelIndex += 1\n",
    "            \n",
    "        total += labels.size(0)\n",
    "        \n",
    "accuracy = (correct / total ) * 100\n",
    "\n",
    "print(f'Completed Training [{epoch}] - Test Accuracy: {accuracy:.2f}%')"
   ]
  },
  {
   "cell_type": "code",
   "execution_count": 20,
   "id": "18dc45ce-db2f-4929-9c1f-3a28ada1d717",
   "metadata": {},
   "outputs": [],
   "source": [
    "CommandWords_DF = spark.createDataFrame([], StructType([\n",
    "    StructField(\"Epoch\", IntegerType(), False),\n",
    "    StructField(\"File\", StringType(), False),\n",
    "    StructField(\"Confidence\", DoubleType(), False),\n",
    "    StructField(\"PredictedLabel\", IntegerType(), False),\n",
    "    StructField(\"Label\", IntegerType(), False),\n",
    "]))\n",
    "\n",
    "CommandWords_DF.write.jdbc(url=url, table=\"Training\", mode=\"overwrite\", properties=properties)"
   ]
  },
  {
   "cell_type": "code",
   "execution_count": null,
   "id": "1a834ebc-b545-4e34-a010-2431ccd819a3",
   "metadata": {},
   "outputs": [
    {
     "name": "stdout",
     "output_type": "stream",
     "text": [
      "----Epoch 0, Step [0], Loss: 16.112133026123047, Accuracy: 9.375%\n",
      "----Epoch 0, Step [100], Loss: 2.786914110183716, Accuracy: 21.875%\n",
      "----Epoch 0, Step [200], Loss: 1.9003719091415405, Accuracy: 43.75%\n",
      "----Epoch 0, Step [300], Loss: 1.4439826011657715, Accuracy: 62.5%\n",
      "----Epoch 0, Step [400], Loss: 1.2757161855697632, Accuracy: 68.75%\n",
      "----Epoch 0, Step [500], Loss: 1.1123242378234863, Accuracy: 67.1875%\n",
      "----Epoch 0, Step [600], Loss: 1.0955915451049805, Accuracy: 70.3125%\n",
      "----Epoch 0, Step [700], Loss: 0.9759261608123779, Accuracy: 68.75%\n",
      "----Epoch 0, Step [800], Loss: 0.604890763759613, Accuracy: 87.5%\n",
      "----Epoch 0, Step [900], Loss: 0.6624710559844971, Accuracy: 79.6875%\n",
      "----Epoch 0, Step [1000], Loss: 0.5027265548706055, Accuracy: 82.8125%\n",
      "----Epoch 0, Step [1100], Loss: 1.1232774257659912, Accuracy: 70.3125%\n",
      "----Epoch 0, Step [1200], Loss: 0.6843283772468567, Accuracy: 81.25%\n",
      "----Epoch 0, Step [1300], Loss: 0.8160013556480408, Accuracy: 70.3125%\n",
      "Epoch [0] - Validation Accuracy: 82.72%\n",
      "----Epoch 1, Step [0], Loss: 0.5351306796073914, Accuracy: 82.8125%\n",
      "----Epoch 1, Step [100], Loss: 0.564382791519165, Accuracy: 81.25%\n",
      "----Epoch 1, Step [200], Loss: 0.5794375538825989, Accuracy: 82.8125%\n",
      "----Epoch 1, Step [300], Loss: 0.36926472187042236, Accuracy: 90.625%\n",
      "----Epoch 1, Step [400], Loss: 0.5334039926528931, Accuracy: 78.125%\n",
      "----Epoch 1, Step [500], Loss: 0.4699549973011017, Accuracy: 87.5%\n",
      "----Epoch 1, Step [600], Loss: 0.6125662326812744, Accuracy: 85.9375%\n",
      "----Epoch 1, Step [700], Loss: 0.2333095371723175, Accuracy: 93.75%\n",
      "----Epoch 1, Step [800], Loss: 0.45661818981170654, Accuracy: 87.5%\n",
      "----Epoch 1, Step [900], Loss: 0.6099498867988586, Accuracy: 84.375%\n",
      "----Epoch 1, Step [1000], Loss: 0.35240355134010315, Accuracy: 89.0625%\n",
      "----Epoch 1, Step [1100], Loss: 1.0933877229690552, Accuracy: 78.125%\n",
      "----Epoch 1, Step [1200], Loss: 0.5268805623054504, Accuracy: 84.375%\n",
      "----Epoch 1, Step [1300], Loss: 0.3714572489261627, Accuracy: 85.9375%\n",
      "Epoch [1] - Validation Accuracy: 85.26%\n",
      "----Epoch 2, Step [0], Loss: 0.2667561173439026, Accuracy: 93.75%\n",
      "----Epoch 2, Step [100], Loss: 0.32855188846588135, Accuracy: 93.75%\n",
      "----Epoch 2, Step [200], Loss: 0.4031675457954407, Accuracy: 85.9375%\n",
      "----Epoch 2, Step [300], Loss: 0.4343946874141693, Accuracy: 87.5%\n",
      "----Epoch 2, Step [400], Loss: 0.3810596168041229, Accuracy: 90.625%\n",
      "----Epoch 2, Step [500], Loss: 0.31778234243392944, Accuracy: 89.0625%\n",
      "----Epoch 2, Step [600], Loss: 0.22884103655815125, Accuracy: 90.625%\n",
      "----Epoch 2, Step [700], Loss: 0.6255509257316589, Accuracy: 79.6875%\n"
     ]
    }
   ],
   "source": [
    "commandWord = CommandWordCNN(36)\n",
    "\n",
    "crossEntropy = nn.CrossEntropyLoss()\n",
    "optimizer = optim.Adam(commandWord.parameters(), lr=0.001)\n",
    "\n",
    "epochs = 5\n",
    "\n",
    "# Training loop\n",
    "for epoch in range(epochs): \n",
    "\n",
    "    command_rows = []\n",
    "    for i, (spectogram, labels, key) in enumerate(train_DataLoaderDenoised):\n",
    "        \n",
    "        #print(spectogram.unsqueeze(1).shape)\n",
    "        optimizer.zero_grad()\n",
    "        \n",
    "        logits = commandWord(spectogram.unsqueeze(1))\n",
    "\n",
    "        loss = crossEntropy(logits, labels)\n",
    "        \n",
    "        loss.backward()\n",
    "        \n",
    "        optimizer.step()\n",
    "\n",
    "        probabilities = torch.softmax(logits, dim=1)\n",
    "\n",
    "        confidence, predicted = torch.max(probabilities, 1)  \n",
    "        \n",
    "        trainingSaveIndex = -1\n",
    "        for label in labels:    \n",
    "            trainingSaveIndex += 1\n",
    "\n",
    "            command_rows.append(Row(\n",
    "                Epoch=epoch,\n",
    "                File=key[trainingSaveIndex],\n",
    "                Confidence=confidence[trainingSaveIndex].item(),\n",
    "                PredictedLabel= predicted[trainingSaveIndex].item(),\n",
    "                Label=labels[trainingSaveIndex].item()\n",
    "            ))\n",
    "             \n",
    "        if i % 100 == 0:\n",
    "            correct = 0\n",
    "            labelIndex = 0\n",
    "            for label in labels:\n",
    "                if(predicted[labelIndex] == labels[labelIndex]):\n",
    "                   correct += 1 \n",
    "                labelIndex += 1\n",
    "     \n",
    "            accuracy = (correct / labels.size(0) ) * 100\n",
    "\n",
    "            print(f'----Epoch {epoch}, Step [{i}], Loss: {loss.item()}, Accuracy: {accuracy}%')\n",
    "\n",
    "    CommandWords_DF = spark.createDataFrame(command_rows, StructType([\n",
    "        StructField(\"Epoch\", IntegerType(), False),\n",
    "        StructField(\"File\", StringType(), False),\n",
    "        StructField(\"Confidence\", DoubleType(), False),\n",
    "        StructField(\"PredictedLabel\", IntegerType(), False),\n",
    "        StructField(\"Label\", IntegerType(), False),\n",
    "    ]))\n",
    "\n",
    "    CommandWords_DF.write.jdbc(url=url, table=\"Training\", mode=\"append\", properties=properties)\n",
    "            \n",
    "    commandWord.eval()\n",
    "    total = 0\n",
    "    correct = 0\n",
    "    with torch.no_grad(): \n",
    "        for spectrogram, labels, key in validation_DataLoaderDenoised:\n",
    "            logits = commandWord(spectrogram.unsqueeze(1)) \n",
    "            predicted = torch.argmax(logits, 1)  \n",
    "\n",
    "            labelIndex = 0\n",
    "            for label in labels:\n",
    "                if(predicted[labelIndex] == labels[labelIndex]):\n",
    "                   correct += 1 \n",
    "                labelIndex += 1\n",
    "                \n",
    "            total += labels.size(0)\n",
    "            \n",
    "    commandWord.train()\n",
    "    \n",
    "    accuracy = (correct / total ) * 100\n",
    "    \n",
    "    print(f'Epoch [{epoch}] - Validation Accuracy: {accuracy:.2f}%')\n",
    "\n",
    "commandWord.eval()\n",
    "total = 0\n",
    "correct = 0\n",
    "with torch.no_grad(): \n",
    "    for spectrogram, labels, key in test_DataLoaderDenoised:\n",
    "        logits = commandWord(spectrogram.unsqueeze(1)) \n",
    "        predicted = torch.argmax(logits, 1)  \n",
    "\n",
    "        labelIndex = 0\n",
    "        for label in labels:\n",
    "            if(predicted[labelIndex] == labels[labelIndex]):\n",
    "               correct += 1 \n",
    "            labelIndex += 1\n",
    "            \n",
    "        total += labels.size(0)\n",
    "        \n",
    "accuracy = (correct / total ) * 100\n",
    "\n",
    "print(f'Completed Training [{epoch}] - Test Accuracy: {accuracy:.2f}%')\n"
   ]
  },
  {
   "cell_type": "code",
   "execution_count": null,
   "id": "4f0680fb-973a-4d20-9f0b-6bd39fcb3c9e",
   "metadata": {},
   "outputs": [],
   "source": [
    "trainingData = spark.read.jdbc(url=url, table=\"Training\", properties=properties)\n",
    "\n",
    "trainingData.collect()[0]"
   ]
  },
  {
   "cell_type": "code",
   "execution_count": null,
   "id": "1c73d937-092d-4ccb-866b-ed9a7b35f65a",
   "metadata": {},
   "outputs": [],
   "source": [
    "aggregateDataFrame = df.groupBy(\"File\", \"Label\").agg(\n",
    "    avg(\"Confidence\").alias('Confidence'),\n",
    "    stddev(\"Confidence\").alias(\"Variability\"),\n",
    "    expr(\"SUM(CASE WHEN PredictedLabel = Label then 1 ELSE 0 END) / count(Confidence)\").alias(\"Accuracy\")\n",
    ").toPandas()\n",
    "\n",
    "\n",
    "plt.figure(figsize=(10, 6))\n",
    "scatter = plt.scatter(aggregateDataFrame['Variability'], aggregateDataFrame['Confidence'], \n",
    "                      c=aggregateDataFrame['Accuracy'], cmap='viridis', alpha=0.6)\n",
    "\n",
    "plt.colorbar(scatter, label='Accuracy')\n",
    "plt.xlabel('Variability')\n",
    "plt.ylabel('Confidence')\n",
    "plt.title('Data Cartography')\n",
    "plt.grid(True)\n",
    "plt.show()"
   ]
  },
  {
   "cell_type": "code",
   "execution_count": null,
   "id": "4ac59a2e-3c33-4a7d-83e2-a71805a1e026",
   "metadata": {},
   "outputs": [],
   "source": [
    "\n",
    "filtered_trainingData = trainingData.groupBy(\"File\", \"Confidence\").agg(\n",
    "    expr(\"SUM(CASE WHEN PredictedLabel = Label then 1 ELSE 0 END) / count(Confidence)\").alias(\"Accuracy\"),\n",
    ").filter( ((col('Confidence') > 0.5) & (col('Accuracy') < 0.4)) | (col('Confidence') < 0.2))\n",
    "\n",
    "filtered_trainingData.show()\n"
   ]
  },
  {
   "cell_type": "code",
   "execution_count": null,
   "id": "50e8fad7-8351-448e-a960-97d740eed092",
   "metadata": {},
   "outputs": [],
   "source": [
    "hardToLearnFiles"
   ]
  },
  {
   "cell_type": "code",
   "execution_count": null,
   "id": "17c27842-1beb-4b08-aa3d-84c5a31baec0",
   "metadata": {},
   "outputs": [],
   "source": [
    "hardToLearnFiles = set(filtered_trainingData.select(col('file')).rdd.flatMap(lambda x: x).collect())\n",
    "\n",
    "filteredDataset = dataset.filter(lambda row: row['file'] in hardToLearnFiles).map(preprocess_audio)\n",
    "\n",
    "train_DataCartography = DataLoader(filteredDataset['train'], batch_size=32, shuffle=True, collate_fn=collateDenoised)"
   ]
  },
  {
   "cell_type": "code",
   "execution_count": null,
   "id": "43068995-6d64-4a2e-af57-7866cabcafd5",
   "metadata": {},
   "outputs": [],
   "source": [
    "# Training loop\n",
    "for epoch in range(epochs): \n",
    "\n",
    "    for i, (spectogram, labels, key) in enumerate(train_DataCartography):\n",
    "        \n",
    "        #print(spectogram.unsqueeze(1).shape)\n",
    "        optimizer.zero_grad()\n",
    "        \n",
    "        logits = commandWord(spectogram.unsqueeze(1))\n",
    "\n",
    "        loss = crossEntropy(logits, labels)\n",
    "        \n",
    "        loss.backward()\n",
    "        \n",
    "        optimizer.step()\n",
    "\n",
    "        probabilities = torch.softmax(logits, dim=1)\n",
    "\n",
    "        confidence, predicted = torch.max(probabilities, 1)  \n",
    "        \n",
    "        trainingSaveIndex = -1\n",
    "        for label in labels:    \n",
    "            trainingSaveIndex += 1\n",
    "\n",
    "        if i % 100 == 0:\n",
    "            correct = 0\n",
    "            labelIndex = 0\n",
    "            for label in labels:\n",
    "                if(predicted[labelIndex] == labels[labelIndex]):\n",
    "                   correct += 1 \n",
    "                labelIndex += 1\n",
    "     \n",
    "            accuracy = (correct / labels.size(0) ) * 100\n",
    "\n",
    "            print(f'----Epoch {epoch}, Step [{i}], Loss: {loss.item()}, Accuracy: {accuracy}%')\n",
    "\n",
    "            \n",
    "    commandWord.eval()\n",
    "    total = 0\n",
    "    correct = 0\n",
    "    with torch.no_grad(): \n",
    "        for spectrogram, labels, key in validation_DataLoaderDenoised:\n",
    "            logits = commandWord(spectrogram.unsqueeze(1)) \n",
    "            predicted = torch.argmax(logits, 1)  \n",
    "\n",
    "            labelIndex = 0\n",
    "            for label in labels:\n",
    "                if(predicted[labelIndex] == labels[labelIndex]):\n",
    "                   correct += 1 \n",
    "                labelIndex += 1\n",
    "                \n",
    "            total += labels.size(0)\n",
    "            \n",
    "    commandWord.train()\n",
    "    \n",
    "    accuracy = (correct / total ) * 100\n",
    "    \n",
    "    print(f'Epoch [{epoch}] - Validation Accuracy: {accuracy:.2f}%')\n",
    "\n",
    "commandWord.eval()\n",
    "total = 0\n",
    "correct = 0\n",
    "with torch.no_grad(): \n",
    "    for spectrogram, labels, key in test_DataLoaderDenoised:\n",
    "        logits = commandWord(spectrogram.unsqueeze(1)) \n",
    "        predicted = torch.argmax(logits, 1)  \n",
    "\n",
    "        labelIndex = 0\n",
    "        for label in labels:\n",
    "            if(predicted[labelIndex] == labels[labelIndex]):\n",
    "               correct += 1 \n",
    "            labelIndex += 1\n",
    "            \n",
    "        total += labels.size(0)\n",
    "        \n",
    "accuracy = (correct / total ) * 100\n",
    "\n",
    "print(f'Completed Training [{epoch}] - Test Accuracy: {accuracy:.2f}%')"
   ]
  }
 ],
 "metadata": {
  "kernelspec": {
   "display_name": "Python 3 (ipykernel)",
   "language": "python",
   "name": "python3"
  },
  "language_info": {
   "codemirror_mode": {
    "name": "ipython",
    "version": 3
   },
   "file_extension": ".py",
   "mimetype": "text/x-python",
   "name": "python",
   "nbconvert_exporter": "python",
   "pygments_lexer": "ipython3",
   "version": "3.11.9"
  }
 },
 "nbformat": 4,
 "nbformat_minor": 5
}
