{
 "cells": [
  {
   "cell_type": "markdown",
   "id": "afc016ea-9836-4c71-85d4-9834be4a0098",
   "metadata": {},
   "source": [
    "# CS 4964 - Final Project: Command Word Audio\n",
    "<div style=\"text-align: right; font-weight: bold;\"> Tyler DeBruin </div>\n",
    "<div style=\"text-align: right; font-weight: bold;\"> Nolan Angerbauer </div>\n",
    "<br>\n",
    "<div style=\"text-align: right; font-weight: bold;\"> 3/28/2024 </div>\n",
    "<br>\n",
    "\n",
    "\n",
    "<div style=\"text-align: center; font-weight: bold;\"> Final Project: Command Word Audio </div>\n",
    "\n",
    "### Abstract\n",
    "\n",
    "Utilizing Apache Spark, and a Command Word dataset provided by Huggingface.co we will build\n",
    "and train a machine learning model that can differentiate command words from non-command words, or\n",
    "silence and white noise. We provide a mechanism to forward audio into the model, and provide inference\n",
    "on the output command word.\n",
    "\n",
    "\n",
    "### Dataset\n",
    "https://arxiv.org/abs/1804.03209\n",
    "\n",
    "The dataset we will be using is from Huggingface.co. \n",
    "\n",
    "Repository: https://huggingface.co/datasets/speech_commands\n",
    "<br>\n",
    "As Per HuggingFace:\n",
    "<br>\n",
    "##### Language\n",
    "English (BCP-47 en)\n",
    "<br>\n",
    "##### Collection\n",
    "The audio files were collected using crowdsourcing. The goal was to gather examples of people speaking single-word commands, rather than conversational sentences, so they were prompted for individual words over the course of a five minute session. The dataset consists of people who have donated their voice online. \n",
    "<br><br>\n"
   ]
  },
  {
   "cell_type": "code",
   "execution_count": 1,
   "id": "15c41cb2-8d43-4d4b-9247-149ef6e1ae63",
   "metadata": {
    "scrolled": true
   },
   "outputs": [],
   "source": [
    "import os\n",
    "import numpy as np\n",
    "import librosa\n",
    "import soundfile\n",
    "from speech_commands import SpeechCommands\n",
    "from datasets import concatenate_datasets, load_dataset, load_from_disk\n",
    "from pyspark.sql.types import StructType, StructField, IntegerType, StringType, BinaryType, Row, BooleanType\n",
    "from pyspark.sql import SparkSession\n",
    "\n",
    "from scipy.signal import wiener\n",
    "import matplotlib.pyplot as plt"
   ]
  },
  {
   "cell_type": "code",
   "execution_count": 2,
   "id": "13af78c6-8f5f-427d-80b9-ce3af8806b95",
   "metadata": {},
   "outputs": [],
   "source": [
    "import torch\n",
    "import torch.nn as nn\n",
    "import torch.nn.functional as F\n",
    "import torch.optim as optim\n",
    "from torch.utils.data import DataLoader"
   ]
  },
  {
   "cell_type": "code",
   "execution_count": 3,
   "id": "9c51d32a-5912-4d8e-80fc-068006503888",
   "metadata": {},
   "outputs": [],
   "source": [
    "spark = SparkSession.builder.master(\"local[1]\") \\\n",
    "    .appName(\"Postgres\") \\\n",
    "    .config(\"spark.jars\", \"/final/postgresql-42.7.3.jar\") \\\n",
    "    .config(\"spark.sql.legacy.createHiveTableByDefault\", \"False\") \\\n",
    "    .getOrCreate()\n",
    "\n",
    "url = \"jdbc:postgresql://postgres:5432/cs4964\"\n",
    "\n",
    "properties = {\n",
    "    \"user\": \"root\",\n",
    "    \"password\": \"password\",\n",
    "    \"driver\": \"org.postgresql.Driver\"\n",
    "}"
   ]
  },
  {
   "cell_type": "code",
   "execution_count": 4,
   "id": "eb540e85-268c-4244-9325-87db7e7f2ff9",
   "metadata": {},
   "outputs": [
    {
     "data": {
      "application/vnd.jupyter.widget-view+json": {
       "model_id": "e2d855d63f8e4b809abcfc0089419c58",
       "version_major": 2,
       "version_minor": 0
      },
      "text/plain": [
       "Saving the dataset (0/6 shards):   0%|          | 0/84848 [00:00<?, ? examples/s]"
      ]
     },
     "metadata": {},
     "output_type": "display_data"
    },
    {
     "data": {
      "application/vnd.jupyter.widget-view+json": {
       "model_id": "1476b2c029bc49deb87a81181547aaa9",
       "version_major": 2,
       "version_minor": 0
      },
      "text/plain": [
       "Saving the dataset (0/1 shards):   0%|          | 0/9982 [00:00<?, ? examples/s]"
      ]
     },
     "metadata": {},
     "output_type": "display_data"
    },
    {
     "data": {
      "application/vnd.jupyter.widget-view+json": {
       "model_id": "57fd97acb1d0444595521d6182a3daac",
       "version_major": 2,
       "version_minor": 0
      },
      "text/plain": [
       "Saving the dataset (0/1 shards):   0%|          | 0/4890 [00:00<?, ? examples/s]"
      ]
     },
     "metadata": {},
     "output_type": "display_data"
    }
   ],
   "source": [
    "dataset = load_dataset(\"speech_commands\", \"v0.02\", keep_in_memory=False, num_proc=2)\n",
    "dataset.save_to_disk(\"speechCommands\")\n",
    "dataset = load_from_disk(\"speechCommands\")\n",
    "dataset = dataset.with_format(\"torch\")"
   ]
  },
  {
   "cell_type": "code",
   "execution_count": 5,
   "id": "62fabdc1-97e5-4c64-9318-0dac7bb1df94",
   "metadata": {},
   "outputs": [],
   "source": [
    "training = dataset['train']\n",
    "validation = dataset['validation']\n",
    "combinedDataset = concatenate_datasets([training, validation])"
   ]
  },
  {
   "cell_type": "code",
   "execution_count": 6,
   "id": "cb5d449e-9209-4786-8d4f-72b057254329",
   "metadata": {},
   "outputs": [
    {
     "data": {
      "text/plain": [
       "DatasetDict({\n",
       "    train: Dataset({\n",
       "        features: ['file', 'audio', 'label', 'is_unknown', 'speaker_id', 'utterance_id'],\n",
       "        num_rows: 84848\n",
       "    })\n",
       "    validation: Dataset({\n",
       "        features: ['file', 'audio', 'label', 'is_unknown', 'speaker_id', 'utterance_id'],\n",
       "        num_rows: 9982\n",
       "    })\n",
       "    test: Dataset({\n",
       "        features: ['file', 'audio', 'label', 'is_unknown', 'speaker_id', 'utterance_id'],\n",
       "        num_rows: 4890\n",
       "    })\n",
       "})"
      ]
     },
     "execution_count": 6,
     "metadata": {},
     "output_type": "execute_result"
    }
   ],
   "source": [
    "dataset"
   ]
  },
  {
   "cell_type": "code",
   "execution_count": 7,
   "id": "164e4f07-7944-47c5-9b24-34f55337b94f",
   "metadata": {},
   "outputs": [
    {
     "data": {
      "text/plain": [
       "{'file': 'backward/2356b88d_nohash_0.wav',\n",
       " 'audio': {'path': '2356b88d_nohash_0.wav',\n",
       "  'array': tensor([ 0.0000,  0.0000,  0.0000,  ..., -0.0001, -0.0002, -0.0001]),\n",
       "  'sampling_rate': tensor(16000)},\n",
       " 'label': tensor(30),\n",
       " 'is_unknown': tensor(True),\n",
       " 'speaker_id': '2356b88d',\n",
       " 'utterance_id': tensor(0)}"
      ]
     },
     "execution_count": 7,
     "metadata": {},
     "output_type": "execute_result"
    }
   ],
   "source": [
    "training[0]"
   ]
  },
  {
   "cell_type": "markdown",
   "id": "723e36f0-0ab0-4af6-8271-48cdfd3db4aa",
   "metadata": {},
   "source": [
    "https://huggingface.co/docs/datasets/en/package_reference/main_classes"
   ]
  },
  {
   "cell_type": "code",
   "execution_count": 8,
   "id": "af4cd32f-8ca1-44c7-a0b0-abd1af9852c2",
   "metadata": {},
   "outputs": [
    {
     "data": {
      "text/plain": [
       "'\\nfileId = 0\\nbatched = 0\\naudio_rows = []\\ncommand_rows = []\\nfor batch_idx, data in enumerate(dataloader):\\n    print(data)\\n    fileId += 1\\n    batched += 1\\n    # Process each item in the batch\\n    command_rows.append(Row(\\n        fileId=fileId,\\n        file=data[\\'file\\'][0],\\n        label=data[\\'label\\'].item(),\\n        is_unknown=data[\\'is_unknown\\'].item(),\\n        speaker_id=data[\\'speaker_id\\'][0],\\n        utterance_id=data[\\'utterance_id\\'].item(),\\n    ))\\n\\n    audio_rows.append(Row(\\n        fileid=fileId,\\n        Audio=np.array(data[\\'audio\\'][\\'array\\'][0], dtype=np.int16).tobytes(),\\n        SamplingRate=data[\\'audio\\'][\\'sampling_rate\\'].item()\\n    ))\\n    \\n    # Create DataFrames from the lists of rows\\n\\n    # Write to PostgreSQL\\n    if(batched % 100 == 0):\\n\\n        CommandWords_DF = spark.createDataFrame(command_rows, StructType([\\n            StructField(\"fileId\", IntegerType(), False),\\n            StructField(\"file\", StringType(), False),\\n            StructField(\"label\", IntegerType(), False),\\n            StructField(\"is_unknown\", BooleanType(), False),\\n            StructField(\"speaker_id\", StringType(), False),\\n            StructField(\"utterance_id\", IntegerType(), False)\\n        ]))\\n    \\n        Audio_DF = spark.createDataFrame(audio_rows, StructType([\\n            StructField(\"fileid\", IntegerType(), False),\\n            StructField(\"Audio\", BinaryType(), False),\\n            StructField(\"SamplingRate\", IntegerType(), False),\\n        ]))\\n\\n\\n        CommandWords_DF.write.jdbc(url=url, table=\"AudioFile\", mode=\"append\", properties=properties)\\n        Audio_DF.write.jdbc(url=url, table=\"AudioBytes\", mode=\"append\", properties=properties)\\n        command_rows.clear()\\n        audio_rows.clear()\\n'"
      ]
     },
     "execution_count": 8,
     "metadata": {},
     "output_type": "execute_result"
    }
   ],
   "source": [
    "\"\"\"\n",
    "fileId = 0\n",
    "batched = 0\n",
    "audio_rows = []\n",
    "command_rows = []\n",
    "for batch_idx, data in enumerate(dataloader):\n",
    "    print(data)\n",
    "    fileId += 1\n",
    "    batched += 1\n",
    "    # Process each item in the batch\n",
    "    command_rows.append(Row(\n",
    "        fileId=fileId,\n",
    "        file=data['file'][0],\n",
    "        label=data['label'].item(),\n",
    "        is_unknown=data['is_unknown'].item(),\n",
    "        speaker_id=data['speaker_id'][0],\n",
    "        utterance_id=data['utterance_id'].item(),\n",
    "    ))\n",
    "\n",
    "    audio_rows.append(Row(\n",
    "        fileid=fileId,\n",
    "        Audio=np.array(data['audio']['array'][0], dtype=np.int16).tobytes(),\n",
    "        SamplingRate=data['audio']['sampling_rate'].item()\n",
    "    ))\n",
    "    \n",
    "    # Create DataFrames from the lists of rows\n",
    "\n",
    "    # Write to PostgreSQL\n",
    "    if(batched % 100 == 0):\n",
    "\n",
    "        CommandWords_DF = spark.createDataFrame(command_rows, StructType([\n",
    "            StructField(\"fileId\", IntegerType(), False),\n",
    "            StructField(\"file\", StringType(), False),\n",
    "            StructField(\"label\", IntegerType(), False),\n",
    "            StructField(\"is_unknown\", BooleanType(), False),\n",
    "            StructField(\"speaker_id\", StringType(), False),\n",
    "            StructField(\"utterance_id\", IntegerType(), False)\n",
    "        ]))\n",
    "    \n",
    "        Audio_DF = spark.createDataFrame(audio_rows, StructType([\n",
    "            StructField(\"fileid\", IntegerType(), False),\n",
    "            StructField(\"Audio\", BinaryType(), False),\n",
    "            StructField(\"SamplingRate\", IntegerType(), False),\n",
    "        ]))\n",
    "\n",
    "\n",
    "        CommandWords_DF.write.jdbc(url=url, table=\"AudioFile\", mode=\"append\", properties=properties)\n",
    "        Audio_DF.write.jdbc(url=url, table=\"AudioBytes\", mode=\"append\", properties=properties)\n",
    "        command_rows.clear()\n",
    "        audio_rows.clear()\n",
    "\"\"\""
   ]
  },
  {
   "cell_type": "markdown",
   "id": "3e4b0750-abac-49fc-b6f9-d0295ac126c5",
   "metadata": {},
   "source": [
    "### Preprocessing\n",
    "\n",
    "To begin curating the data, we start by finding all data points outside of 16kHz, and resampling those.\n",
    "That includes both upsampling, and downsampling any audio files.\n",
    "\n",
    "Arrange: https://numpy.org/doc/stable/reference/generated/numpy.arange.html\n",
    "Interp: https://numpy.org/doc/stable/reference/generated/numpy.interp.html\n",
    "\n",
    "\n",
    "##### MelSpectrogram\n",
    "\n",
    "https://pytorch.org/audio/main/tutorials/audio_feature_extractions_tutorial.html#sphx-glr-tutorials-audio-feature-extractions-tutorial-py"
   ]
  },
  {
   "cell_type": "code",
   "execution_count": 9,
   "id": "38815e80-54bf-4794-a150-44a52519161f",
   "metadata": {},
   "outputs": [],
   "source": [
    "import torchaudio.transforms as T\n",
    "\n",
    "def preprocess_audio(row):\n",
    "\n",
    "    #[channel, time]\n",
    "    #All of our audio files are expected to be [1, 16000]\n",
    "    waveform = row['audio']['array'].unsqueeze(0)\n",
    "    \n",
    "    sampleRate = row['audio']['sampling_rate']\n",
    "    \n",
    "    #DENOISING\n",
    "    denoisedWaveform = torch.from_numpy(wiener(waveform.squeeze().numpy(), mysize=1024)).to(torch.float32).unsqueeze(0)\n",
    "    \n",
    "    melSpectrogramTransformer = T.MelSpectrogram(\n",
    "        sample_rate=sampleRate,\n",
    "        n_fft=1024,\n",
    "        hop_length=516,\n",
    "        n_mels=64\n",
    "    )\n",
    "    \n",
    "    melSpectrogram = melSpectrogramTransformer(waveform)\n",
    "    \n",
    "    #print('melSpectrogram', melSpectrogram.shape, 'melSpectrogramDenoised', melSpectrogramDenoised.shape, 'melSpectrogram.size(1)', melSpectrogram.size(1))\n",
    "    #Pad all of the Spectograms to 32\n",
    "    if melSpectrogram.size(2) < 32:\n",
    "        # Pad the spectrogram\n",
    "        pad_amount = 32 - melSpectrogram.size(2)\n",
    "        melSpectrogram = F.pad(melSpectrogram, (0, pad_amount))\n",
    "    elif melSpectrogram.size(2) > 32:\n",
    "        # Truncate the spectrogram\n",
    "        melSpectrogram = melSpectrogram[:, :, :32]\n",
    "\n",
    "    melSpectrogramDenoised = melSpectrogramTransformer(denoisedWaveform)\n",
    "\n",
    "    if melSpectrogramDenoised.size(2) < 32:\n",
    "        # Pad the spectrogram\n",
    "        pad_amount = 32 - melSpectrogramDenoised.size(2)\n",
    "        melSpectrogramDenoised = F.pad(melSpectrogramDenoised, (0, pad_amount))\n",
    "    elif melSpectrogramDenoised.size(2) > 32:\n",
    "        # Truncate the spectrogram\n",
    "        melSpectrogramDenoised = melSpectrogramDenoised[:, :, :32]\n",
    "    \n",
    "    amplitudeToDB = T.AmplitudeToDB()\n",
    "\n",
    "    result = {'spectrogram': amplitudeToDB(melSpectrogram).squeeze(0), 'spectrogramDenoised': amplitudeToDB(melSpectrogramDenoised).squeeze(0), 'label': row['label'] }\n",
    "\n",
    "    return result"
   ]
  },
  {
   "cell_type": "code",
   "execution_count": 10,
   "id": "06b1e9d5-370b-4de5-8afb-94e4aab9f6fc",
   "metadata": {},
   "outputs": [
    {
     "name": "stderr",
     "output_type": "stream",
     "text": [
      "Parameter 'function'=<function preprocess_audio at 0x7fc32d6ac540> of the transform datasets.arrow_dataset.Dataset._map_single couldn't be hashed properly, a random hash was used instead. Make sure your transforms and parameters are serializable with pickle or dill for the dataset fingerprinting and caching to work. If you reuse this transform, the caching mechanism will consider it to be different from the previous calls and recompute everything. This warning is only showed once. Subsequent hashing failures won't be showed.\n"
     ]
    },
    {
     "data": {
      "application/vnd.jupyter.widget-view+json": {
       "model_id": "c3ee1181c9ac4793898e9dda705c2d97",
       "version_major": 2,
       "version_minor": 0
      },
      "text/plain": [
       "Map:   0%|          | 0/84848 [00:00<?, ? examples/s]"
      ]
     },
     "metadata": {},
     "output_type": "display_data"
    },
    {
     "data": {
      "application/vnd.jupyter.widget-view+json": {
       "model_id": "51ad66084fc34009b71690066b719c86",
       "version_major": 2,
       "version_minor": 0
      },
      "text/plain": [
       "Map:   0%|          | 0/9982 [00:00<?, ? examples/s]"
      ]
     },
     "metadata": {},
     "output_type": "display_data"
    },
    {
     "data": {
      "application/vnd.jupyter.widget-view+json": {
       "model_id": "ba0d16e25702449fb91e6deab08268af",
       "version_major": 2,
       "version_minor": 0
      },
      "text/plain": [
       "Map:   0%|          | 0/4890 [00:00<?, ? examples/s]"
      ]
     },
     "metadata": {},
     "output_type": "display_data"
    }
   ],
   "source": [
    "feature_Dataset = dataset.map(preprocess_audio)"
   ]
  },
  {
   "cell_type": "code",
   "execution_count": 11,
   "id": "147bd367-739d-4c62-a440-f3e2f173a4cb",
   "metadata": {},
   "outputs": [],
   "source": [
    "def collate(batch):\n",
    "    spectrograms = torch.stack([item['spectrogram'] for item in batch])\n",
    "    labels = torch.tensor([item['label'] for item in batch])\n",
    "    return spectrograms, labels"
   ]
  },
  {
   "cell_type": "code",
   "execution_count": 12,
   "id": "9eab1b28-f597-4d51-b6ea-2c2981102006",
   "metadata": {},
   "outputs": [],
   "source": [
    "train_DataLoader = DataLoader(feature_Dataset['train'], batch_size=64, shuffle=True, collate_fn=collate)\n",
    "test_DataLoader = DataLoader(feature_Dataset['test'], batch_size=64, shuffle=True, collate_fn=collate)\n",
    "validation_DataLoader = DataLoader(feature_Dataset['validation'], batch_size=64, shuffle=True, collate_fn=collate)"
   ]
  },
  {
   "cell_type": "code",
   "execution_count": 13,
   "id": "0badf4f6-dab4-403b-aa81-1129bfaa8868",
   "metadata": {},
   "outputs": [],
   "source": [
    "def collateDenoised(batch):\n",
    "    spectrograms = torch.stack([item['spectrogramDenoised'] for item in batch])\n",
    "    labels = torch.tensor([item['label'] for item in batch])\n",
    "    return spectrograms, labels"
   ]
  },
  {
   "cell_type": "code",
   "execution_count": 14,
   "id": "7dd5a3de-fabf-4d12-80fd-1d1878aa7ca5",
   "metadata": {},
   "outputs": [],
   "source": [
    "train_DataLoaderDenoised = DataLoader(feature_Dataset['train'], batch_size=32, shuffle=True, collate_fn=collateDenoised)\n",
    "test_DataLoaderDenoised = DataLoader(feature_Dataset['test'], batch_size=32, shuffle=True, collate_fn=collateDenoised)\n",
    "validation_DataLoaderDenoised = DataLoader(feature_Dataset['validation'], batch_size=32, shuffle=True, collate_fn=collateDenoised)"
   ]
  },
  {
   "cell_type": "markdown",
   "id": "59c77724-7dbe-404f-95a4-4c1c777afc90",
   "metadata": {},
   "source": [
    "https://pytorch.org/audio/main/tutorials/audio_feature_extractions_tutorial.html#sphx-glr-tutorials-audio-feature-extractions-tutorial-py"
   ]
  },
  {
   "cell_type": "code",
   "execution_count": 15,
   "id": "c83dbec6-7bfe-4d85-990e-d3f698b62f28",
   "metadata": {},
   "outputs": [],
   "source": [
    "def plot_waveform(waveform, sr, title=\"Waveform\", ax=None):\n",
    "    waveform = waveform.numpy()\n",
    "\n",
    "    num_channels, num_frames = waveform.shape\n",
    "    time_axis = torch.arange(0, num_frames) / sr\n",
    "\n",
    "    if ax is None:\n",
    "        _, ax = plt.subplots(num_channels, 1)\n",
    "    ax.plot(time_axis, waveform[0], linewidth=1)\n",
    "    ax.grid(True)\n",
    "    ax.set_xlim([0, time_axis[-1]])\n",
    "    ax.set_title(title)\n",
    "\n",
    "def plot_spectrogram(specgram, title=None, ylabel=\"freq_bin\", ax=None):\n",
    "    if ax is None:\n",
    "        _, ax = plt.subplots(1, 1)\n",
    "    if title is not None:\n",
    "        ax.set_title(title)\n",
    "    ax.set_ylabel(ylabel)\n",
    "    ax.imshow(librosa.power_to_db(specgram), origin=\"lower\", aspect=\"auto\", interpolation=\"nearest\")\n"
   ]
  },
  {
   "cell_type": "code",
   "execution_count": 16,
   "id": "420e2cb1-3f49-42a0-bc13-8677ae10c58f",
   "metadata": {},
   "outputs": [
    {
     "name": "stdout",
     "output_type": "stream",
     "text": [
      "spectrograms.shape torch.Size([64, 64, 32])\n",
      "torch.Size([64])\n"
     ]
    },
    {
     "data": {
      "image/png": "[encoded data removed]",
      "text/plain": [
       "<Figure size 640x480 with 1 Axes>"
      ]
     },
     "metadata": {},
     "output_type": "display_data"
    },
    {
     "data": {
      "image/png": "[encoded data removed]",
      "text/plain": [
       "<Figure size 640x480 with 1 Axes>"
      ]
     },
     "metadata": {},
     "output_type": "display_data"
    }
   ],
   "source": [
    "waveForm = feature_Dataset['train'][0]['audio']['array'].unsqueeze(0)\n",
    "plot_waveform(waveForm, feature_Dataset['train'][0]['audio']['sampling_rate'])\n",
    "plot_spectrogram(preprocess_audio(feature_Dataset['train'][0])['spectrogram'])\n",
    "\n",
    "for spectrograms, labels in train_DataLoader:\n",
    "    print('spectrograms.shape', spectrograms.shape)\n",
    "    #print('spectrograms', spectrograms) \n",
    "    print(labels.shape)\n",
    "    break"
   ]
  },
  {
   "cell_type": "code",
   "execution_count": 17,
   "id": "84477b5f-e8a2-470c-8c2d-c8c21715c930",
   "metadata": {},
   "outputs": [
    {
     "data": {
      "image/png": "[encoded data removed]",
      "text/plain": [
       "<Figure size 640x480 with 1 Axes>"
      ]
     },
     "metadata": {},
     "output_type": "display_data"
    }
   ],
   "source": [
    "plot_spectrogram(preprocess_audio(feature_Dataset['train'][0])['spectrogramDenoised'])"
   ]
  },
  {
   "cell_type": "markdown",
   "id": "b2133f70-7ce6-4cb9-baa7-8bafbe51a11c",
   "metadata": {},
   "source": [
    "### Convolution Neural Network\n",
    "https://en.wikipedia.org/wiki/Convolutional_neural_network"
   ]
  },
  {
   "cell_type": "code",
   "execution_count": 18,
   "id": "4310dfe8-63b2-4fd7-a7ec-2070ed19b6b4",
   "metadata": {},
   "outputs": [
    {
     "name": "stdout",
     "output_type": "stream",
     "text": [
      "CUDA not available. Using CPU.\n"
     ]
    }
   ],
   "source": [
    "torch.manual_seed(69)\n",
    "\n",
    "if torch.cuda.is_available():\n",
    "    device = torch.device(\"cuda\")\n",
    "    torch.cuda.manual_seed(69)\n",
    "    torch.cuda.manual_seed_all(69)\n",
    "    print(\"CUDA is available. Using GPU.\")\n",
    "else:\n",
    "    device = torch.device(\"cpu\")\n",
    "    print(\"CUDA not available. Using CPU.\")\n",
    "\n",
    "class CommandWordCNN(nn.Module):\n",
    "    def __init__(self):\n",
    "        super(CommandWordCNN, self).__init__()\n",
    "        self.numberOfClasses = 36  # Number of classes\n",
    "        self.conv1 = nn.Conv2d(1, 16, kernel_size=3, stride=1, padding=1)  # Only 1 input channel\n",
    "        self.pool = nn.MaxPool2d(2, 2)\n",
    "        self.conv2 = nn.Conv2d(16, 32, kernel_size=3, stride=1, padding=1)\n",
    "        # Assuming input spectrograms are 64x32 after pooling and convolution it becomes 16x8\n",
    "        self.fc1 = nn.Linear(32 * 16 * 8, 128)\n",
    "        self.fc2 = nn.Linear(128, self.numberOfClasses)\n",
    "        \n",
    "    def forward(self, x):\n",
    "        x = self.pool(F.relu(self.conv1(x)))\n",
    "        x = self.pool(F.relu(self.conv2(x)))\n",
    "        x = torch.flatten(x, 1)\n",
    "        x = F.relu(self.fc1(x))\n",
    "        x = self.fc2(x)\n",
    "        return x"
   ]
  },
  {
   "cell_type": "markdown",
   "id": "9008652e-a789-46f9-bdf8-ff5e0444d13c",
   "metadata": {},
   "source": [
    "commandWord = CommandWordCNN()\n",
    "\n",
    "crossEntropyLoss = nn.CrossEntropyLoss()\n",
    "optimizer = optim.Adam(commandWord.parameters(), lr=0.001)\n",
    "\n",
    "epochs = 4\n",
    "\n",
    "# Training loop\n",
    "for epoch in range(epochs): \n",
    "\n",
    "    for i, (spectogram, labels) in enumerate(train_DataLoader):\n",
    "        \n",
    "        #print(spectogram.unsqueeze(1).shape)\n",
    "        optimizer.zero_grad()\n",
    "        \n",
    "        outputs = commandWord(spectogram.unsqueeze(1))\n",
    "        \n",
    "        loss = crossEntropyLoss(outputs, labels)\n",
    "        \n",
    "        loss.backward()\n",
    "        \n",
    "        optimizer.step()\n",
    "\n",
    "        if i % 100 == 0:\n",
    "            val, predicted = torch.max(outputs, 1)  \n",
    "            total = labels.size(0)  \n",
    "            correct = (predicted == labels).sum().item() \n",
    "            accuracy = 100 * correct / total \n",
    "\n",
    "            print(f'Epoch [{epoch + 1}], Step [{i}], Loss: {loss.item()}, Accuracy: {accuracy}')\n",
    "\n",
    "\n",
    "        # Validation phase\n",
    "    commandWord.eval()  # Set the model to evaluation mode\n",
    "    total = 0\n",
    "    correct = 0\n",
    "    with torch.no_grad():  # No need to track gradients for validation\n",
    "        for spectrogram, labels in validation_DataLoader:\n",
    "            spectrogram = spectrogram.unsqueeze(1)\n",
    "            outputs = commandWord(spectrogram)\n",
    "            val, predicted = torch.max(outputs.data, 1)\n",
    "            total += labels.size(0)\n",
    "            correct += (predicted == labels).sum().item()\n",
    "            \n",
    "    commandWord.train()\n",
    "    \n",
    "    accuracy = 100 * correct / total\n",
    "    print(f'Validation Accuracy after Epoch {epoch + 1}: {accuracy:.2f}%')"
   ]
  },
  {
   "cell_type": "code",
   "execution_count": null,
   "id": "1a834ebc-b545-4e34-a010-2431ccd819a3",
   "metadata": {},
   "outputs": [
    {
     "name": "stdout",
     "output_type": "stream",
     "text": [
      "Epoch [1], Step [0], Loss: 5.662467956542969, Accuracy: 6.25\n",
      "Epoch [1], Step [100], Loss: 3.5086402893066406, Accuracy: 9.375\n",
      "Epoch [1], Step [200], Loss: 2.69227933883667, Accuracy: 21.875\n",
      "Epoch [1], Step [300], Loss: 2.5205817222595215, Accuracy: 25.0\n",
      "Epoch [1], Step [400], Loss: 2.336198568344116, Accuracy: 31.25\n",
      "Epoch [1], Step [500], Loss: 1.9495830535888672, Accuracy: 40.625\n",
      "Epoch [1], Step [600], Loss: 1.6355581283569336, Accuracy: 43.75\n",
      "Epoch [1], Step [700], Loss: 1.6794973611831665, Accuracy: 62.5\n",
      "Epoch [1], Step [800], Loss: 1.5861510038375854, Accuracy: 50.0\n",
      "Epoch [1], Step [900], Loss: 1.0663032531738281, Accuracy: 65.625\n",
      "Epoch [1], Step [1000], Loss: 0.7390356063842773, Accuracy: 78.125\n",
      "Epoch [1], Step [1100], Loss: 0.7850967645645142, Accuracy: 75.0\n",
      "Epoch [1], Step [1200], Loss: 0.8324908018112183, Accuracy: 75.0\n",
      "Epoch [1], Step [1300], Loss: 0.9000792503356934, Accuracy: 81.25\n",
      "Epoch [1], Step [1400], Loss: 0.8829500079154968, Accuracy: 78.125\n",
      "Epoch [1], Step [1500], Loss: 0.9342153072357178, Accuracy: 71.875\n",
      "Epoch [1], Step [1600], Loss: 1.2436007261276245, Accuracy: 62.5\n",
      "Epoch [1], Step [1700], Loss: 0.4372795820236206, Accuracy: 84.375\n",
      "Epoch [1], Step [1800], Loss: 1.174156665802002, Accuracy: 62.5\n",
      "Epoch [1], Step [1900], Loss: 0.6197742223739624, Accuracy: 81.25\n",
      "Epoch [1], Step [2000], Loss: 0.9878946542739868, Accuracy: 75.0\n",
      "Epoch [1], Step [2100], Loss: 0.5110931992530823, Accuracy: 81.25\n",
      "Epoch [1], Step [2200], Loss: 0.7822142839431763, Accuracy: 75.0\n",
      "Epoch [1], Step [2300], Loss: 0.8953337669372559, Accuracy: 68.75\n",
      "Epoch [1], Step [2400], Loss: 1.0481796264648438, Accuracy: 59.375\n",
      "Epoch [1], Step [2500], Loss: 1.3069795370101929, Accuracy: 59.375\n",
      "Epoch [1], Step [2600], Loss: 0.4065672755241394, Accuracy: 90.625\n",
      "Validation Accuracy after Epoch 1: 76.24%\n",
      "Epoch [2], Step [0], Loss: 0.8131018280982971, Accuracy: 78.125\n",
      "Epoch [2], Step [100], Loss: 0.8794500231742859, Accuracy: 84.375\n",
      "Epoch [2], Step [200], Loss: 1.0632328987121582, Accuracy: 62.5\n",
      "Epoch [2], Step [300], Loss: 0.83740234375, Accuracy: 71.875\n",
      "Epoch [2], Step [400], Loss: 0.7474831938743591, Accuracy: 71.875\n",
      "Epoch [2], Step [500], Loss: 0.7038441896438599, Accuracy: 75.0\n",
      "Epoch [2], Step [600], Loss: 1.3529974222183228, Accuracy: 75.0\n",
      "Epoch [2], Step [700], Loss: 0.5883671641349792, Accuracy: 84.375\n",
      "Epoch [2], Step [800], Loss: 0.5608749985694885, Accuracy: 87.5\n",
      "Epoch [2], Step [900], Loss: 0.7776909470558167, Accuracy: 84.375\n",
      "Epoch [2], Step [1000], Loss: 1.1718924045562744, Accuracy: 71.875\n",
      "Epoch [2], Step [1100], Loss: 0.7971327900886536, Accuracy: 78.125\n",
      "Epoch [2], Step [1200], Loss: 0.4056365191936493, Accuracy: 90.625\n",
      "Epoch [2], Step [1300], Loss: 0.7385467290878296, Accuracy: 78.125\n",
      "Epoch [2], Step [1400], Loss: 0.7239310145378113, Accuracy: 71.875\n",
      "Epoch [2], Step [1500], Loss: 1.1635854244232178, Accuracy: 65.625\n",
      "Epoch [2], Step [1600], Loss: 0.5317942500114441, Accuracy: 84.375\n",
      "Epoch [2], Step [1700], Loss: 0.7277315258979797, Accuracy: 75.0\n",
      "Epoch [2], Step [1800], Loss: 0.6233622431755066, Accuracy: 81.25\n",
      "Epoch [2], Step [1900], Loss: 0.6312673091888428, Accuracy: 78.125\n",
      "Epoch [2], Step [2000], Loss: 0.5698519945144653, Accuracy: 71.875\n",
      "Epoch [2], Step [2100], Loss: 1.0178184509277344, Accuracy: 68.75\n",
      "Epoch [2], Step [2200], Loss: 0.7998246550559998, Accuracy: 71.875\n",
      "Epoch [2], Step [2300], Loss: 0.5205386877059937, Accuracy: 78.125\n",
      "Epoch [2], Step [2400], Loss: 0.49402064085006714, Accuracy: 84.375\n",
      "Epoch [2], Step [2500], Loss: 1.3920155763626099, Accuracy: 65.625\n",
      "Epoch [2], Step [2600], Loss: 0.5402777194976807, Accuracy: 84.375\n",
      "Validation Accuracy after Epoch 2: 80.37%\n",
      "Epoch [3], Step [0], Loss: 0.6373218297958374, Accuracy: 81.25\n",
      "Epoch [3], Step [100], Loss: 0.6286330819129944, Accuracy: 84.375\n",
      "Epoch [3], Step [200], Loss: 0.3813989758491516, Accuracy: 87.5\n",
      "Epoch [3], Step [300], Loss: 0.33126601576805115, Accuracy: 87.5\n",
      "Epoch [3], Step [400], Loss: 0.6185373663902283, Accuracy: 81.25\n",
      "Epoch [3], Step [500], Loss: 0.36420711874961853, Accuracy: 90.625\n",
      "Epoch [3], Step [600], Loss: 0.2625807821750641, Accuracy: 90.625\n",
      "Epoch [3], Step [700], Loss: 0.604224681854248, Accuracy: 81.25\n",
      "Epoch [3], Step [800], Loss: 0.6196760535240173, Accuracy: 81.25\n",
      "Epoch [3], Step [900], Loss: 1.1713954210281372, Accuracy: 68.75\n",
      "Epoch [3], Step [1000], Loss: 0.42828771471977234, Accuracy: 81.25\n",
      "Epoch [3], Step [1100], Loss: 0.5708296895027161, Accuracy: 90.625\n",
      "Epoch [3], Step [1200], Loss: 0.7957636713981628, Accuracy: 75.0\n",
      "Epoch [3], Step [1300], Loss: 0.4335300326347351, Accuracy: 84.375\n",
      "Epoch [3], Step [1400], Loss: 0.7092127203941345, Accuracy: 75.0\n",
      "Epoch [3], Step [1500], Loss: 0.4950251281261444, Accuracy: 90.625\n",
      "Epoch [3], Step [1600], Loss: 0.9488876461982727, Accuracy: 75.0\n",
      "Epoch [3], Step [1700], Loss: 0.8181299567222595, Accuracy: 78.125\n",
      "Epoch [3], Step [1800], Loss: 0.4123605489730835, Accuracy: 87.5\n",
      "Epoch [3], Step [1900], Loss: 0.5960556864738464, Accuracy: 81.25\n",
      "Epoch [3], Step [2000], Loss: 0.698768675327301, Accuracy: 75.0\n",
      "Epoch [3], Step [2100], Loss: 0.6673084497451782, Accuracy: 81.25\n",
      "Epoch [3], Step [2200], Loss: 0.4456998407840729, Accuracy: 84.375\n",
      "Epoch [3], Step [2300], Loss: 0.46377626061439514, Accuracy: 93.75\n",
      "Epoch [3], Step [2400], Loss: 0.37348461151123047, Accuracy: 87.5\n",
      "Epoch [3], Step [2500], Loss: 0.7684906721115112, Accuracy: 78.125\n",
      "Epoch [3], Step [2600], Loss: 0.4610675275325775, Accuracy: 84.375\n",
      "Validation Accuracy after Epoch 3: 80.87%\n",
      "Epoch [4], Step [0], Loss: 0.6365182399749756, Accuracy: 84.375\n",
      "Epoch [4], Step [100], Loss: 0.5654605627059937, Accuracy: 78.125\n",
      "Epoch [4], Step [200], Loss: 0.2093404233455658, Accuracy: 96.875\n"
     ]
    }
   ],
   "source": [
    "commandWord = CommandWordCNN()\n",
    "\n",
    "crossEntropyLoss = nn.CrossEntropyLoss()\n",
    "optimizer = optim.Adam(commandWord.parameters(), lr=0.001)\n",
    "\n",
    "epochs = 30\n",
    "\n",
    "# Training loop\n",
    "for epoch in range(epochs): \n",
    "\n",
    "    for i, (spectogram, labels) in enumerate(train_DataLoaderDenoised):\n",
    "        \n",
    "        #print(spectogram.unsqueeze(1).shape)\n",
    "        optimizer.zero_grad()\n",
    "        \n",
    "        outputs = commandWord(spectogram.unsqueeze(1))\n",
    "        \n",
    "        loss = crossEntropyLoss(outputs, labels)\n",
    "        \n",
    "        loss.backward()\n",
    "        \n",
    "        optimizer.step()\n",
    "\n",
    "        if i % 100 == 0:\n",
    "            val, predicted = torch.max(outputs, 1)  \n",
    "            total = labels.size(0)  \n",
    "            correct = (predicted == labels).sum().item() \n",
    "            accuracy = 100 * correct / total \n",
    "\n",
    "            print(f'Epoch [{epoch + 1}], Step [{i}], Loss: {loss.item()}, Accuracy: {accuracy}')\n",
    "\n",
    "\n",
    "        # Validation phase\n",
    "    commandWord.eval()  # Set the model to evaluation mode\n",
    "    total = 0\n",
    "    correct = 0\n",
    "    with torch.no_grad():  # No need to track gradients for validation\n",
    "        for spectrogram, labels in validation_DataLoaderDenoised:\n",
    "            spectrogram = spectrogram.unsqueeze(1)\n",
    "            outputs = commandWord(spectrogram)\n",
    "            val, predicted = torch.max(outputs.data, 1)\n",
    "            total += labels.size(0)\n",
    "            correct += (predicted == labels).sum().item()\n",
    "            \n",
    "    commandWord.train()\n",
    "    \n",
    "    accuracy = 100 * correct / total\n",
    "    print(f'Validation Accuracy after Epoch {epoch + 1}: {accuracy:.2f}%')"
   ]
  },
  {
   "cell_type": "code",
   "execution_count": null,
   "id": "1eb3e74e-551f-4245-a7b4-57fb7bb1410e",
   "metadata": {},
   "outputs": [],
   "source": [
    "\n",
    "for i, (spectogram, labels) in enumerate(test_DataLoader):\n",
    "\n"
   ]
  },
  {
   "cell_type": "code",
   "execution_count": null,
   "id": "0fadefdc-5803-46d4-bf4f-b5b72cb0dc74",
   "metadata": {},
   "outputs": [],
   "source": [
    "!nvidia-smi"
   ]
  }
 ],
 "metadata": {
  "kernelspec": {
   "display_name": "Python 3 (ipykernel)",
   "language": "python",
   "name": "python3"
  },
  "language_info": {
   "codemirror_mode": {
    "name": "ipython",
    "version": 3
   },
   "file_extension": ".py",
   "mimetype": "text/x-python",
   "name": "python",
   "nbconvert_exporter": "python",
   "pygments_lexer": "ipython3",
   "version": "3.11.9"
  }
 },
 "nbformat": 4,
 "nbformat_minor": 5
}
