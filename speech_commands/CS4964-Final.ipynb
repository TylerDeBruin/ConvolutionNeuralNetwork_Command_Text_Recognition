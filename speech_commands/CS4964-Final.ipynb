{
 "cells": [
  {
   "cell_type": "markdown",
   "id": "afc016ea-9836-4c71-85d4-9834be4a0098",
   "metadata": {},
   "source": [
    "# CS 4964 - Final Project: Command Word Audio\n",
    "<div style=\"text-align: right; font-weight: bold;\"> Tyler DeBruin </div>\n",
    "<div style=\"text-align: right; font-weight: bold;\"> Nolan Angerbauer </div>\n",
    "<br>\n",
    "<div style=\"text-align: right; font-weight: bold;\"> 3/28/2024 </div>\n",
    "<br>\n",
    "\n",
    "\n",
    "<div style=\"text-align: center; font-weight: bold;\"> Final Project: Command Word Audio </div>\n",
    "\n",
    "### Abstract\n",
    "\n",
    "Utilizing Apache Spark, and a Command Word dataset provided by Huggingface.co we will build\n",
    "and train a machine learning model that can differentiate command words from non-command words, or\n",
    "silence and white noise. We provide a mechanism to forward audio into the model, and provide inference\n",
    "on the output command word.\n",
    "\n",
    "\n",
    "### Dataset\n",
    "The dataset we will be using is from Huggingface.co. \n",
    "\n",
    "Repository: https://huggingface.co/datasets/speech_commands\n",
    "<br>\n",
    "As Per HuggingFace:\n",
    "<br>\n",
    "##### Language\n",
    "English (BCP-47 en)\n",
    "<br>\n",
    "##### Collection\n",
    "The audio files were collected using crowdsourcing. The goal was to gather examples of people speaking single-word commands, rather than conversational sentences, so they were prompted for individual words over the course of a five minute session. The dataset consists of people who have donated their voice online. \n",
    "<br><br>\n"
   ]
  },
  {
   "cell_type": "code",
   "execution_count": 71,
   "id": "15c41cb2-8d43-4d4b-9247-149ef6e1ae63",
   "metadata": {
    "scrolled": true
   },
   "outputs": [],
   "source": [
    "import os\n",
    "import numpy as np\n",
    "import librosa\n",
    "import soundfile\n",
    "from speech_commands import SpeechCommands\n",
    "from datasets import concatenate_datasets, load_dataset, load_from_disk\n",
    "from pyspark.sql.types import StructType, StructField, IntegerType, StringType, BinaryType, Row, BooleanType\n",
    "from pyspark.sql import SparkSession\n",
    "\n",
    "import matplotlib.pyplot as plt"
   ]
  },
  {
   "cell_type": "code",
   "execution_count": 2,
   "id": "13af78c6-8f5f-427d-80b9-ce3af8806b95",
   "metadata": {},
   "outputs": [],
   "source": [
    "import torch\n",
    "import torch.nn as nn\n",
    "import torch.nn.functional as F\n",
    "import torch.optim as optim\n",
    "from torch.utils.data import DataLoader"
   ]
  },
  {
   "cell_type": "code",
   "execution_count": 3,
   "id": "9c51d32a-5912-4d8e-80fc-068006503888",
   "metadata": {},
   "outputs": [],
   "source": [
    "spark = SparkSession.builder.master(\"local[1]\") \\\n",
    "    .appName(\"Postgres\") \\\n",
    "    .config(\"spark.jars\", \"/final/postgresql-42.7.3.jar\") \\\n",
    "    .config(\"spark.sql.legacy.createHiveTableByDefault\", \"False\") \\\n",
    "    .getOrCreate()\n",
    "\n",
    "url = \"jdbc:postgresql://postgres:5432/cs4964\"\n",
    "\n",
    "properties = {\n",
    "    \"user\": \"root\",\n",
    "    \"password\": \"password\",\n",
    "    \"driver\": \"org.postgresql.Driver\"\n",
    "}"
   ]
  },
  {
   "cell_type": "code",
   "execution_count": 4,
   "id": "eb540e85-268c-4244-9325-87db7e7f2ff9",
   "metadata": {},
   "outputs": [
    {
     "data": {
      "application/vnd.jupyter.widget-view+json": {
       "model_id": "a66cc10e98474ef7b16afa93d6925497",
       "version_major": 2,
       "version_minor": 0
      },
      "text/plain": [
       "Saving the dataset (0/6 shards):   0%|          | 0/84848 [00:00<?, ? examples/s]"
      ]
     },
     "metadata": {},
     "output_type": "display_data"
    },
    {
     "data": {
      "application/vnd.jupyter.widget-view+json": {
       "model_id": "6d9b7212a1434cc2b3a47081b65fbb85",
       "version_major": 2,
       "version_minor": 0
      },
      "text/plain": [
       "Saving the dataset (0/1 shards):   0%|          | 0/9982 [00:00<?, ? examples/s]"
      ]
     },
     "metadata": {},
     "output_type": "display_data"
    },
    {
     "data": {
      "application/vnd.jupyter.widget-view+json": {
       "model_id": "225da9f9ee554c6f95b7e92e666997b9",
       "version_major": 2,
       "version_minor": 0
      },
      "text/plain": [
       "Saving the dataset (0/1 shards):   0%|          | 0/4890 [00:00<?, ? examples/s]"
      ]
     },
     "metadata": {},
     "output_type": "display_data"
    }
   ],
   "source": [
    "dataset = load_dataset(\"speech_commands\", \"v0.02\", keep_in_memory=False, num_proc=2)\n",
    "dataset.save_to_disk(\"speechCommands\")\n",
    "dataset = load_from_disk(\"speechCommands\")\n",
    "dataset = dataset.with_format(\"torch\")"
   ]
  },
  {
   "cell_type": "code",
   "execution_count": 5,
   "id": "62fabdc1-97e5-4c64-9318-0dac7bb1df94",
   "metadata": {},
   "outputs": [],
   "source": [
    "training = dataset['train']\n",
    "validation = dataset['validation']\n",
    "combinedDataset = concatenate_datasets([training, validation])"
   ]
  },
  {
   "cell_type": "code",
   "execution_count": 6,
   "id": "164e4f07-7944-47c5-9b24-34f55337b94f",
   "metadata": {},
   "outputs": [
    {
     "data": {
      "text/plain": [
       "{'file': 'backward/2356b88d_nohash_0.wav',\n",
       " 'audio': {'path': '2356b88d_nohash_0.wav',\n",
       "  'array': tensor([ 0.0000,  0.0000,  0.0000,  ..., -0.0001, -0.0002, -0.0001]),\n",
       "  'sampling_rate': tensor(16000)},\n",
       " 'label': tensor(30),\n",
       " 'is_unknown': tensor(True),\n",
       " 'speaker_id': '2356b88d',\n",
       " 'utterance_id': tensor(0)}"
      ]
     },
     "execution_count": 6,
     "metadata": {},
     "output_type": "execute_result"
    }
   ],
   "source": [
    "training[0]"
   ]
  },
  {
   "cell_type": "markdown",
   "id": "723e36f0-0ab0-4af6-8271-48cdfd3db4aa",
   "metadata": {},
   "source": [
    "https://huggingface.co/docs/datasets/en/package_reference/main_classes"
   ]
  },
  {
   "cell_type": "code",
   "execution_count": 7,
   "id": "af4cd32f-8ca1-44c7-a0b0-abd1af9852c2",
   "metadata": {},
   "outputs": [
    {
     "data": {
      "text/plain": [
       "'\\nfileId = 0\\nbatched = 0\\naudio_rows = []\\ncommand_rows = []\\nfor batch_idx, data in enumerate(dataloader):\\n    print(data)\\n    fileId += 1\\n    batched += 1\\n    # Process each item in the batch\\n    command_rows.append(Row(\\n        fileId=fileId,\\n        file=data[\\'file\\'][0],\\n        label=data[\\'label\\'].item(),\\n        is_unknown=data[\\'is_unknown\\'].item(),\\n        speaker_id=data[\\'speaker_id\\'][0],\\n        utterance_id=data[\\'utterance_id\\'].item(),\\n    ))\\n\\n    audio_rows.append(Row(\\n        fileid=fileId,\\n        Audio=np.array(data[\\'audio\\'][\\'array\\'][0], dtype=np.int16).tobytes(),\\n        SamplingRate=data[\\'audio\\'][\\'sampling_rate\\'].item()\\n    ))\\n    \\n    # Create DataFrames from the lists of rows\\n\\n    # Write to PostgreSQL\\n    if(batched % 100 == 0):\\n\\n        CommandWords_DF = spark.createDataFrame(command_rows, StructType([\\n            StructField(\"fileId\", IntegerType(), False),\\n            StructField(\"file\", StringType(), False),\\n            StructField(\"label\", IntegerType(), False),\\n            StructField(\"is_unknown\", BooleanType(), False),\\n            StructField(\"speaker_id\", StringType(), False),\\n            StructField(\"utterance_id\", IntegerType(), False)\\n        ]))\\n    \\n        Audio_DF = spark.createDataFrame(audio_rows, StructType([\\n            StructField(\"fileid\", IntegerType(), False),\\n            StructField(\"Audio\", BinaryType(), False),\\n            StructField(\"SamplingRate\", IntegerType(), False),\\n        ]))\\n\\n\\n        CommandWords_DF.write.jdbc(url=url, table=\"AudioFile\", mode=\"append\", properties=properties)\\n        Audio_DF.write.jdbc(url=url, table=\"AudioBytes\", mode=\"append\", properties=properties)\\n        command_rows.clear()\\n        audio_rows.clear()\\n'"
      ]
     },
     "execution_count": 7,
     "metadata": {},
     "output_type": "execute_result"
    }
   ],
   "source": [
    "\"\"\"\n",
    "fileId = 0\n",
    "batched = 0\n",
    "audio_rows = []\n",
    "command_rows = []\n",
    "for batch_idx, data in enumerate(dataloader):\n",
    "    print(data)\n",
    "    fileId += 1\n",
    "    batched += 1\n",
    "    # Process each item in the batch\n",
    "    command_rows.append(Row(\n",
    "        fileId=fileId,\n",
    "        file=data['file'][0],\n",
    "        label=data['label'].item(),\n",
    "        is_unknown=data['is_unknown'].item(),\n",
    "        speaker_id=data['speaker_id'][0],\n",
    "        utterance_id=data['utterance_id'].item(),\n",
    "    ))\n",
    "\n",
    "    audio_rows.append(Row(\n",
    "        fileid=fileId,\n",
    "        Audio=np.array(data['audio']['array'][0], dtype=np.int16).tobytes(),\n",
    "        SamplingRate=data['audio']['sampling_rate'].item()\n",
    "    ))\n",
    "    \n",
    "    # Create DataFrames from the lists of rows\n",
    "\n",
    "    # Write to PostgreSQL\n",
    "    if(batched % 100 == 0):\n",
    "\n",
    "        CommandWords_DF = spark.createDataFrame(command_rows, StructType([\n",
    "            StructField(\"fileId\", IntegerType(), False),\n",
    "            StructField(\"file\", StringType(), False),\n",
    "            StructField(\"label\", IntegerType(), False),\n",
    "            StructField(\"is_unknown\", BooleanType(), False),\n",
    "            StructField(\"speaker_id\", StringType(), False),\n",
    "            StructField(\"utterance_id\", IntegerType(), False)\n",
    "        ]))\n",
    "    \n",
    "        Audio_DF = spark.createDataFrame(audio_rows, StructType([\n",
    "            StructField(\"fileid\", IntegerType(), False),\n",
    "            StructField(\"Audio\", BinaryType(), False),\n",
    "            StructField(\"SamplingRate\", IntegerType(), False),\n",
    "        ]))\n",
    "\n",
    "\n",
    "        CommandWords_DF.write.jdbc(url=url, table=\"AudioFile\", mode=\"append\", properties=properties)\n",
    "        Audio_DF.write.jdbc(url=url, table=\"AudioBytes\", mode=\"append\", properties=properties)\n",
    "        command_rows.clear()\n",
    "        audio_rows.clear()\n",
    "\"\"\""
   ]
  },
  {
   "cell_type": "markdown",
   "id": "3e4b0750-abac-49fc-b6f9-d0295ac126c5",
   "metadata": {},
   "source": [
    "### Preprocessing\n",
    "\n",
    "To begin curating the data, we start by finding all data points outside of 16kHz, and resampling those.\n",
    "That includes both upsampling, and downsampling any audio files.\n",
    "\n",
    "Arrange: https://numpy.org/doc/stable/reference/generated/numpy.arange.html\n",
    "Interp: https://numpy.org/doc/stable/reference/generated/numpy.interp.html\n",
    "\n",
    "\n",
    "##### MelSpectrogram\n",
    "\n",
    "https://pytorch.org/audio/main/tutorials/audio_feature_extractions_tutorial.html#sphx-glr-tutorials-audio-feature-extractions-tutorial-py"
   ]
  },
  {
   "cell_type": "code",
   "execution_count": 82,
   "id": "38815e80-54bf-4794-a150-44a52519161f",
   "metadata": {},
   "outputs": [],
   "source": [
    "import torchaudio.transforms as T\n",
    "\n",
    "def preprocess_audio(row):\n",
    "\n",
    "    #[channel, time]\n",
    "    #All of our audio files are expected to be [1, 16000]\n",
    "    waveform = row['audio']['array'].unsqueeze(0)\n",
    "    \n",
    "    sampleRate = row['audio']['sampling_rate']\n",
    "\n",
    "    #print('waveform', waveform.shape, 'sampleRate', sampleRate)\n",
    "    \n",
    "    mel_spectrogram_transformer = T.MelSpectrogram(\n",
    "        sample_rate=sampleRate,\n",
    "        n_fft=1024,\n",
    "        hop_length=512,\n",
    "        n_mels=64\n",
    "    )\n",
    "    \n",
    "    mel_spectrogram = mel_spectrogram_transformer(waveform)\n",
    "\n",
    "    #print('mel_spectrogram', mel_spectrogram.shape, 'mel_spectrogram_db', mel_spectrogram.shape, 'mel_spectrogram.size(1)', mel_spectrogram.size(1))\n",
    "    #Pad all of the Spectograms to 32\n",
    "    if mel_spectrogram.size(2) < 32:\n",
    "        # Pad the spectrogram\n",
    "        pad_amount = 32 - mel_spectrogram.size(2)\n",
    "        mel_spectrogram = F.pad(mel_spectrogram, (0, pad_amount))\n",
    "    elif mel_spectrogram.size(2) > 32:\n",
    "        # Truncate the spectrogram\n",
    "        mel_spectrogram = mel_spectrogram[:, :, :32]\n",
    "\n",
    "\n",
    "    #Transpose, as Per Hugging Face - [batch, n_mels, time] should be input to the Convolution Neural Network\n",
    "    mel_spectrogram = mel_spectrogram.transpose(1,2)\n",
    "    \n",
    "    #print('mel_spectrogram', mel_spectrogram.shape)\n",
    "    \n",
    "    amplitudeToDB = T.AmplitudeToDB()\n",
    "    \n",
    "    mel_spectrogram_db = amplitudeToDB(mel_spectrogram)\n",
    "\n",
    "    #print('spectrogram', mel_spectrogram_db.squeeze(0).shape)\n",
    "    \n",
    "    result = {'spectrogram': mel_spectrogram_db.squeeze(0), 'label': row['label'] }\n",
    "    \n",
    "    return result"
   ]
  },
  {
   "cell_type": "code",
   "execution_count": 83,
   "id": "06b1e9d5-370b-4de5-8afb-94e4aab9f6fc",
   "metadata": {},
   "outputs": [
    {
     "data": {
      "application/vnd.jupyter.widget-view+json": {
       "model_id": "edd361c15d04413985df7ab33e55dac2",
       "version_major": 2,
       "version_minor": 0
      },
      "text/plain": [
       "Map:   0%|          | 0/84848 [00:00<?, ? examples/s]"
      ]
     },
     "metadata": {},
     "output_type": "display_data"
    },
    {
     "data": {
      "application/vnd.jupyter.widget-view+json": {
       "model_id": "8b00ff024d6143d79e1776bb96ae1101",
       "version_major": 2,
       "version_minor": 0
      },
      "text/plain": [
       "Map:   0%|          | 0/9982 [00:00<?, ? examples/s]"
      ]
     },
     "metadata": {},
     "output_type": "display_data"
    },
    {
     "data": {
      "application/vnd.jupyter.widget-view+json": {
       "model_id": "91f9c16906a34172b91db572d07a7882",
       "version_major": 2,
       "version_minor": 0
      },
      "text/plain": [
       "Map:   0%|          | 0/4890 [00:00<?, ? examples/s]"
      ]
     },
     "metadata": {},
     "output_type": "display_data"
    }
   ],
   "source": [
    "feature_Dataset = dataset.map(preprocess_audio)"
   ]
  },
  {
   "cell_type": "code",
   "execution_count": 67,
   "id": "147bd367-739d-4c62-a440-f3e2f173a4cb",
   "metadata": {},
   "outputs": [],
   "source": [
    "def collate(batch):\n",
    "\n",
    "    spectrograms = torch.stack([item['spectrogram'] for item in batch])\n",
    "    labels = torch.tensor([item['label'] for item in batch])\n",
    "    return spectrograms, labels"
   ]
  },
  {
   "cell_type": "markdown",
   "id": "59c77724-7dbe-404f-95a4-4c1c777afc90",
   "metadata": {},
   "source": [
    "https://pytorch.org/audio/main/tutorials/audio_feature_extractions_tutorial.html#sphx-glr-tutorials-audio-feature-extractions-tutorial-py"
   ]
  },
  {
   "cell_type": "code",
   "execution_count": 92,
   "id": "c83dbec6-7bfe-4d85-990e-d3f698b62f28",
   "metadata": {},
   "outputs": [],
   "source": [
    "def plot_waveform(waveform, sr, title=\"Waveform\", ax=None):\n",
    "    waveform = waveform.numpy()\n",
    "\n",
    "    num_channels, num_frames = waveform.shape\n",
    "    time_axis = torch.arange(0, num_frames) / sr\n",
    "\n",
    "    if ax is None:\n",
    "        _, ax = plt.subplots(num_channels, 1)\n",
    "    ax.plot(time_axis, waveform[0], linewidth=1)\n",
    "    ax.grid(True)\n",
    "    ax.set_xlim([0, time_axis[-1]])\n",
    "    ax.set_title(title)\n",
    "\n",
    "def plot_spectrogram(specgram, title=None, ylabel=\"freq_bin\", ax=None):\n",
    "    if ax is None:\n",
    "        _, ax = plt.subplots(1, 1)\n",
    "    if title is not None:\n",
    "        ax.set_title(title)\n",
    "    ax.set_ylabel(ylabel)\n",
    "    ax.imshow(librosa.power_to_db(specgram), origin=\"lower\", aspect=\"auto\", interpolation=\"nearest\")\n"
   ]
  },
  {
   "cell_type": "code",
   "execution_count": 102,
   "id": "420e2cb1-3f49-42a0-bc13-8677ae10c58f",
   "metadata": {},
   "outputs": [
    {
     "name": "stdout",
     "output_type": "stream",
     "text": [
      "tensor([[[-43.7645, -44.3977, -38.5431,  ..., -47.1443, -49.8820, -54.3247],\n",
      "         [-50.7191, -48.7842, -46.5362,  ..., -51.0459, -54.3404, -57.5443],\n",
      "         [-51.0567, -45.5311, -40.0511,  ..., -50.5628, -52.6305, -56.9738],\n",
      "         ...,\n",
      "         [-57.2877, -55.5646, -51.8088,  ..., -42.6361, -43.9740, -47.2735],\n",
      "         [-59.1802, -53.4796, -50.8655,  ..., -35.9448, -40.1519, -46.8437],\n",
      "         [-57.4778, -56.6472, -45.2963,  ..., -39.2529, -40.5663, -47.5111]]])\n",
      "tensor([16])\n"
     ]
    },
    {
     "data": {
      "image/png": "[encoded data removed]",
      "text/plain": [
       "<Figure size 640x480 with 1 Axes>"
      ]
     },
     "metadata": {},
     "output_type": "display_data"
    },
    {
     "data": {
      "image/png": "[encoded data removed]",
      "text/plain": [
       "<Figure size 640x480 with 1 Axes>"
      ]
     },
     "metadata": {},
     "output_type": "display_data"
    }
   ],
   "source": [
    "train_DataLoader = DataLoader(feature_Dataset['train'], batch_size=1, shuffle=True, collate_fn=collate)\n",
    "\n",
    "waveForm = feature_Dataset['train'][0]['audio']['array'].unsqueeze(0)\n",
    "plot_waveform(waveForm, feature_Dataset['train'][0]['audio']['sampling_rate'])\n",
    "\n",
    "plot_fbank(preprocess_audio(feature_Dataset['train'][0])['spectrogram'])\n",
    "\n",
    "for spectrograms, labels in train_DataLoader:\n",
    "    print(spectrograms) \n",
    "    print(labels)\n",
    "    \n",
    "    break"
   ]
  },
  {
   "cell_type": "markdown",
   "id": "b2133f70-7ce6-4cb9-baa7-8bafbe51a11c",
   "metadata": {},
   "source": [
    "### Convolution Neural Network\n",
    "https://en.wikipedia.org/wiki/Convolutional_neural_network"
   ]
  },
  {
   "cell_type": "code",
   "execution_count": 69,
   "id": "4310dfe8-63b2-4fd7-a7ec-2070ed19b6b4",
   "metadata": {},
   "outputs": [],
   "source": [
    "class CommandWordCNN(nn.Module):\n",
    "    def __init__(self):\n",
    "        self.numberOfClasses = 36\n",
    "        super().__init__()\n",
    "        self.conv1 = nn.Conv2d(1, 16, kernel_size=3, stride=1, padding=1)\n",
    "        self.pool = nn.MaxPool2d(2, 2)\n",
    "        self.conv2 = nn.Conv2d(16, 32, kernel_size=3, stride=1, padding=1)\n",
    "        self.fc1 = nn.Linear(32 * 32 * 32, 128)\n",
    "        self.fc2 = nn.Linear(128, self.numberOfClasses)  # Number of command words\n",
    "            \n",
    "    def forward(self, x):\n",
    "        x = self.pool(F.relu(self.conv1(x)))\n",
    "        x = self.pool(F.relu(self.conv2(x)))\n",
    "        x = torch.flatten(x, 1)\n",
    "        x = F.relu(self.fc1(x))\n",
    "        x = self.fc2(x)\n",
    "        return x"
   ]
  },
  {
   "cell_type": "code",
   "execution_count": 104,
   "id": "81937929-9ab8-41dd-a748-155b21204b81",
   "metadata": {},
   "outputs": [
    {
     "ename": "RuntimeError",
     "evalue": "mat1 and mat2 shapes cannot be multiplied (32x128 and 32768x128)",
     "output_type": "error",
     "traceback": [
      "\u001b[0;31m---------------------------------------------------------------------------\u001b[0m",
      "\u001b[0;31mRuntimeError\u001b[0m                              Traceback (most recent call last)",
      "Cell \u001b[0;32mIn[104], line 15\u001b[0m\n\u001b[1;32m     11\u001b[0m \u001b[38;5;28;01mfor\u001b[39;00m i, (spectogram, labels) \u001b[38;5;129;01min\u001b[39;00m \u001b[38;5;28menumerate\u001b[39m(train_DataLoader):\n\u001b[1;32m     13\u001b[0m     optimizer\u001b[38;5;241m.\u001b[39mzero_grad()\n\u001b[0;32m---> 15\u001b[0m     outputs \u001b[38;5;241m=\u001b[39m \u001b[43mcommandWord\u001b[49m\u001b[43m(\u001b[49m\u001b[43mspectogram\u001b[49m\u001b[43m)\u001b[49m\n\u001b[1;32m     17\u001b[0m     loss \u001b[38;5;241m=\u001b[39m crossEntropyLoss(outputs, labels)\n\u001b[1;32m     19\u001b[0m     loss\u001b[38;5;241m.\u001b[39mbackward()\n",
      "File \u001b[0;32m~/.local/lib/python3.11/site-packages/torch/nn/modules/module.py:1532\u001b[0m, in \u001b[0;36mModule._wrapped_call_impl\u001b[0;34m(self, *args, **kwargs)\u001b[0m\n\u001b[1;32m   1530\u001b[0m     \u001b[38;5;28;01mreturn\u001b[39;00m \u001b[38;5;28mself\u001b[39m\u001b[38;5;241m.\u001b[39m_compiled_call_impl(\u001b[38;5;241m*\u001b[39margs, \u001b[38;5;241m*\u001b[39m\u001b[38;5;241m*\u001b[39mkwargs)  \u001b[38;5;66;03m# type: ignore[misc]\u001b[39;00m\n\u001b[1;32m   1531\u001b[0m \u001b[38;5;28;01melse\u001b[39;00m:\n\u001b[0;32m-> 1532\u001b[0m     \u001b[38;5;28;01mreturn\u001b[39;00m \u001b[38;5;28;43mself\u001b[39;49m\u001b[38;5;241;43m.\u001b[39;49m\u001b[43m_call_impl\u001b[49m\u001b[43m(\u001b[49m\u001b[38;5;241;43m*\u001b[39;49m\u001b[43margs\u001b[49m\u001b[43m,\u001b[49m\u001b[43m \u001b[49m\u001b[38;5;241;43m*\u001b[39;49m\u001b[38;5;241;43m*\u001b[39;49m\u001b[43mkwargs\u001b[49m\u001b[43m)\u001b[49m\n",
      "File \u001b[0;32m~/.local/lib/python3.11/site-packages/torch/nn/modules/module.py:1541\u001b[0m, in \u001b[0;36mModule._call_impl\u001b[0;34m(self, *args, **kwargs)\u001b[0m\n\u001b[1;32m   1536\u001b[0m \u001b[38;5;66;03m# If we don't have any hooks, we want to skip the rest of the logic in\u001b[39;00m\n\u001b[1;32m   1537\u001b[0m \u001b[38;5;66;03m# this function, and just call forward.\u001b[39;00m\n\u001b[1;32m   1538\u001b[0m \u001b[38;5;28;01mif\u001b[39;00m \u001b[38;5;129;01mnot\u001b[39;00m (\u001b[38;5;28mself\u001b[39m\u001b[38;5;241m.\u001b[39m_backward_hooks \u001b[38;5;129;01mor\u001b[39;00m \u001b[38;5;28mself\u001b[39m\u001b[38;5;241m.\u001b[39m_backward_pre_hooks \u001b[38;5;129;01mor\u001b[39;00m \u001b[38;5;28mself\u001b[39m\u001b[38;5;241m.\u001b[39m_forward_hooks \u001b[38;5;129;01mor\u001b[39;00m \u001b[38;5;28mself\u001b[39m\u001b[38;5;241m.\u001b[39m_forward_pre_hooks\n\u001b[1;32m   1539\u001b[0m         \u001b[38;5;129;01mor\u001b[39;00m _global_backward_pre_hooks \u001b[38;5;129;01mor\u001b[39;00m _global_backward_hooks\n\u001b[1;32m   1540\u001b[0m         \u001b[38;5;129;01mor\u001b[39;00m _global_forward_hooks \u001b[38;5;129;01mor\u001b[39;00m _global_forward_pre_hooks):\n\u001b[0;32m-> 1541\u001b[0m     \u001b[38;5;28;01mreturn\u001b[39;00m \u001b[43mforward_call\u001b[49m\u001b[43m(\u001b[49m\u001b[38;5;241;43m*\u001b[39;49m\u001b[43margs\u001b[49m\u001b[43m,\u001b[49m\u001b[43m \u001b[49m\u001b[38;5;241;43m*\u001b[39;49m\u001b[38;5;241;43m*\u001b[39;49m\u001b[43mkwargs\u001b[49m\u001b[43m)\u001b[49m\n\u001b[1;32m   1543\u001b[0m \u001b[38;5;28;01mtry\u001b[39;00m:\n\u001b[1;32m   1544\u001b[0m     result \u001b[38;5;241m=\u001b[39m \u001b[38;5;28;01mNone\u001b[39;00m\n",
      "Cell \u001b[0;32mIn[69], line 15\u001b[0m, in \u001b[0;36mCommandWordCNN.forward\u001b[0;34m(self, x)\u001b[0m\n\u001b[1;32m     13\u001b[0m x \u001b[38;5;241m=\u001b[39m \u001b[38;5;28mself\u001b[39m\u001b[38;5;241m.\u001b[39mpool(F\u001b[38;5;241m.\u001b[39mrelu(\u001b[38;5;28mself\u001b[39m\u001b[38;5;241m.\u001b[39mconv2(x)))\n\u001b[1;32m     14\u001b[0m x \u001b[38;5;241m=\u001b[39m torch\u001b[38;5;241m.\u001b[39mflatten(x, \u001b[38;5;241m1\u001b[39m)\n\u001b[0;32m---> 15\u001b[0m x \u001b[38;5;241m=\u001b[39m F\u001b[38;5;241m.\u001b[39mrelu(\u001b[38;5;28;43mself\u001b[39;49m\u001b[38;5;241;43m.\u001b[39;49m\u001b[43mfc1\u001b[49m\u001b[43m(\u001b[49m\u001b[43mx\u001b[49m\u001b[43m)\u001b[49m)\n\u001b[1;32m     16\u001b[0m x \u001b[38;5;241m=\u001b[39m \u001b[38;5;28mself\u001b[39m\u001b[38;5;241m.\u001b[39mfc2(x)\n\u001b[1;32m     17\u001b[0m \u001b[38;5;28;01mreturn\u001b[39;00m x\n",
      "File \u001b[0;32m~/.local/lib/python3.11/site-packages/torch/nn/modules/module.py:1532\u001b[0m, in \u001b[0;36mModule._wrapped_call_impl\u001b[0;34m(self, *args, **kwargs)\u001b[0m\n\u001b[1;32m   1530\u001b[0m     \u001b[38;5;28;01mreturn\u001b[39;00m \u001b[38;5;28mself\u001b[39m\u001b[38;5;241m.\u001b[39m_compiled_call_impl(\u001b[38;5;241m*\u001b[39margs, \u001b[38;5;241m*\u001b[39m\u001b[38;5;241m*\u001b[39mkwargs)  \u001b[38;5;66;03m# type: ignore[misc]\u001b[39;00m\n\u001b[1;32m   1531\u001b[0m \u001b[38;5;28;01melse\u001b[39;00m:\n\u001b[0;32m-> 1532\u001b[0m     \u001b[38;5;28;01mreturn\u001b[39;00m \u001b[38;5;28;43mself\u001b[39;49m\u001b[38;5;241;43m.\u001b[39;49m\u001b[43m_call_impl\u001b[49m\u001b[43m(\u001b[49m\u001b[38;5;241;43m*\u001b[39;49m\u001b[43margs\u001b[49m\u001b[43m,\u001b[49m\u001b[43m \u001b[49m\u001b[38;5;241;43m*\u001b[39;49m\u001b[38;5;241;43m*\u001b[39;49m\u001b[43mkwargs\u001b[49m\u001b[43m)\u001b[49m\n",
      "File \u001b[0;32m~/.local/lib/python3.11/site-packages/torch/nn/modules/module.py:1541\u001b[0m, in \u001b[0;36mModule._call_impl\u001b[0;34m(self, *args, **kwargs)\u001b[0m\n\u001b[1;32m   1536\u001b[0m \u001b[38;5;66;03m# If we don't have any hooks, we want to skip the rest of the logic in\u001b[39;00m\n\u001b[1;32m   1537\u001b[0m \u001b[38;5;66;03m# this function, and just call forward.\u001b[39;00m\n\u001b[1;32m   1538\u001b[0m \u001b[38;5;28;01mif\u001b[39;00m \u001b[38;5;129;01mnot\u001b[39;00m (\u001b[38;5;28mself\u001b[39m\u001b[38;5;241m.\u001b[39m_backward_hooks \u001b[38;5;129;01mor\u001b[39;00m \u001b[38;5;28mself\u001b[39m\u001b[38;5;241m.\u001b[39m_backward_pre_hooks \u001b[38;5;129;01mor\u001b[39;00m \u001b[38;5;28mself\u001b[39m\u001b[38;5;241m.\u001b[39m_forward_hooks \u001b[38;5;129;01mor\u001b[39;00m \u001b[38;5;28mself\u001b[39m\u001b[38;5;241m.\u001b[39m_forward_pre_hooks\n\u001b[1;32m   1539\u001b[0m         \u001b[38;5;129;01mor\u001b[39;00m _global_backward_pre_hooks \u001b[38;5;129;01mor\u001b[39;00m _global_backward_hooks\n\u001b[1;32m   1540\u001b[0m         \u001b[38;5;129;01mor\u001b[39;00m _global_forward_hooks \u001b[38;5;129;01mor\u001b[39;00m _global_forward_pre_hooks):\n\u001b[0;32m-> 1541\u001b[0m     \u001b[38;5;28;01mreturn\u001b[39;00m \u001b[43mforward_call\u001b[49m\u001b[43m(\u001b[49m\u001b[38;5;241;43m*\u001b[39;49m\u001b[43margs\u001b[49m\u001b[43m,\u001b[49m\u001b[43m \u001b[49m\u001b[38;5;241;43m*\u001b[39;49m\u001b[38;5;241;43m*\u001b[39;49m\u001b[43mkwargs\u001b[49m\u001b[43m)\u001b[49m\n\u001b[1;32m   1543\u001b[0m \u001b[38;5;28;01mtry\u001b[39;00m:\n\u001b[1;32m   1544\u001b[0m     result \u001b[38;5;241m=\u001b[39m \u001b[38;5;28;01mNone\u001b[39;00m\n",
      "File \u001b[0;32m~/.local/lib/python3.11/site-packages/torch/nn/modules/linear.py:116\u001b[0m, in \u001b[0;36mLinear.forward\u001b[0;34m(self, input)\u001b[0m\n\u001b[1;32m    115\u001b[0m \u001b[38;5;28;01mdef\u001b[39;00m \u001b[38;5;21mforward\u001b[39m(\u001b[38;5;28mself\u001b[39m, \u001b[38;5;28minput\u001b[39m: Tensor) \u001b[38;5;241m-\u001b[39m\u001b[38;5;241m>\u001b[39m Tensor:\n\u001b[0;32m--> 116\u001b[0m     \u001b[38;5;28;01mreturn\u001b[39;00m \u001b[43mF\u001b[49m\u001b[38;5;241;43m.\u001b[39;49m\u001b[43mlinear\u001b[49m\u001b[43m(\u001b[49m\u001b[38;5;28;43minput\u001b[39;49m\u001b[43m,\u001b[49m\u001b[43m \u001b[49m\u001b[38;5;28;43mself\u001b[39;49m\u001b[38;5;241;43m.\u001b[39;49m\u001b[43mweight\u001b[49m\u001b[43m,\u001b[49m\u001b[43m \u001b[49m\u001b[38;5;28;43mself\u001b[39;49m\u001b[38;5;241;43m.\u001b[39;49m\u001b[43mbias\u001b[49m\u001b[43m)\u001b[49m\n",
      "\u001b[0;31mRuntimeError\u001b[0m: mat1 and mat2 shapes cannot be multiplied (32x128 and 32768x128)"
     ]
    }
   ],
   "source": [
    "commandWord = CommandWordCNN()\n",
    "\n",
    "crossEntropyLoss = nn.CrossEntropyLoss()\n",
    "optimizer = optim.Adam(commandWord.parameters(), lr=0.001)\n",
    "\n",
    "epochs = 10\n",
    "\n",
    "# Training loop\n",
    "for epoch in range(epochs): \n",
    "    \n",
    "    for i, (spectogram, labels) in enumerate(train_DataLoader):\n",
    "        \n",
    "        optimizer.zero_grad()\n",
    "        \n",
    "        outputs = commandWord(spectogram)\n",
    "        \n",
    "        loss = crossEntropyLoss(outputs, labels)\n",
    "        \n",
    "        loss.backward()\n",
    "        \n",
    "        optimizer.step()\n",
    "\n",
    "        if i % 100 == 0:\n",
    "            print(f'Epoch [{epoch + 1}], Step [{i}], Loss: {loss.item()}')"
   ]
  },
  {
   "cell_type": "code",
   "execution_count": null,
   "id": "1eb3e74e-551f-4245-a7b4-57fb7bb1410e",
   "metadata": {},
   "outputs": [],
   "source": []
  },
  {
   "cell_type": "code",
   "execution_count": null,
   "id": "0fadefdc-5803-46d4-bf4f-b5b72cb0dc74",
   "metadata": {},
   "outputs": [],
   "source": []
  }
 ],
 "metadata": {
  "kernelspec": {
   "display_name": "Python 3 (ipykernel)",
   "language": "python",
   "name": "python3"
  },
  "language_info": {
   "codemirror_mode": {
    "name": "ipython",
    "version": 3
   },
   "file_extension": ".py",
   "mimetype": "text/x-python",
   "name": "python",
   "nbconvert_exporter": "python",
   "pygments_lexer": "ipython3",
   "version": "3.11.9"
  }
 },
 "nbformat": 4,
 "nbformat_minor": 5
}
