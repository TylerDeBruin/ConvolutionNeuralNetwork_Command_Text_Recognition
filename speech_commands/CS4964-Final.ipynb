{
 "cells": [
  {
   "cell_type": "markdown",
   "id": "17eb3d45-191f-47df-916f-32ad1256a8e1",
   "metadata": {},
   "source": [
    "# CS 4964 - Final Project\n",
    "\n",
    "\n",
    "\n",
    "https://huggingface.co/datasets/speech_commands/viewer\n"
   ]
  },
  {
   "cell_type": "code",
   "execution_count": 3,
   "id": "15c41cb2-8d43-4d4b-9247-149ef6e1ae63",
   "metadata": {
    "scrolled": true
   },
   "outputs": [
    {
     "ename": "ModuleNotFoundError",
     "evalue": "No module named 'datasets'",
     "output_type": "error",
     "traceback": [
      "\u001b[0;31m---------------------------------------------------------------------------\u001b[0m",
      "\u001b[0;31mModuleNotFoundError\u001b[0m                       Traceback (most recent call last)",
      "Cell \u001b[0;32mIn[3], line 1\u001b[0m\n\u001b[0;32m----> 1\u001b[0m \u001b[38;5;28;01mfrom\u001b[39;00m \u001b[38;5;21;01mspeech_commands\u001b[39;00m\u001b[38;5;21;01m.\u001b[39;00m\u001b[38;5;21;01mspeech_commands\u001b[39;00m \u001b[38;5;28;01mimport\u001b[39;00m SpeechCommands\n",
      "File \u001b[0;32m/final/speech_commands/speech_commands.py:21\u001b[0m\n\u001b[1;32m     16\u001b[0m \u001b[38;5;124;03m\"\"\"Speech Commands, an audio dataset of spoken words designed to help train and evaluate keyword spotting systems. \"\"\"\u001b[39;00m\n\u001b[1;32m     19\u001b[0m \u001b[38;5;28;01mimport\u001b[39;00m \u001b[38;5;21;01mtextwrap\u001b[39;00m\n\u001b[0;32m---> 21\u001b[0m \u001b[38;5;28;01mimport\u001b[39;00m \u001b[38;5;21;01mdatasets\u001b[39;00m\n\u001b[1;32m     24\u001b[0m _CITATION \u001b[38;5;241m=\u001b[39m \u001b[38;5;124m\"\"\"\u001b[39m\n\u001b[1;32m     25\u001b[0m \u001b[38;5;124m@article\u001b[39m\u001b[38;5;124m{\u001b[39m\u001b[38;5;124mspeechcommandsv2,\u001b[39m\n\u001b[1;32m     26\u001b[0m \u001b[38;5;124m   author = \u001b[39m\u001b[38;5;124m{\u001b[39m\u001b[38;5;124m \u001b[39m\u001b[38;5;132;01m{Warden}\u001b[39;00m\u001b[38;5;124m, P.},\u001b[39m\n\u001b[0;32m   (...)\u001b[0m\n\u001b[1;32m     36\u001b[0m \u001b[38;5;124m}\u001b[39m\n\u001b[1;32m     37\u001b[0m \u001b[38;5;124m\"\"\"\u001b[39m\n\u001b[1;32m     39\u001b[0m _DESCRIPTION \u001b[38;5;241m=\u001b[39m \u001b[38;5;124m\"\"\"\u001b[39m\n\u001b[1;32m     40\u001b[0m \u001b[38;5;124mThis is a set of one-second .wav audio files, each containing a single spoken\u001b[39m\n\u001b[1;32m     41\u001b[0m \u001b[38;5;124mEnglish word or background noise. These words are from a small set of commands, and are spoken by a\u001b[39m\n\u001b[0;32m   (...)\u001b[0m\n\u001b[1;32m     63\u001b[0m \n\u001b[1;32m     64\u001b[0m \u001b[38;5;124m\"\"\"\u001b[39m\n",
      "\u001b[0;31mModuleNotFoundError\u001b[0m: No module named 'datasets'"
     ]
    }
   ],
   "source": [
    "from speech_commands.speech_commands import SpeechCommands"
   ]
  },
  {
   "cell_type": "code",
   "execution_count": 1,
   "id": "eb540e85-268c-4244-9325-87db7e7f2ff9",
   "metadata": {},
   "outputs": [
    {
     "ename": "SyntaxError",
     "evalue": "invalid syntax (927626257.py, line 1)",
     "output_type": "error",
     "traceback": [
      "\u001b[0;36m  Cell \u001b[0;32mIn[1], line 1\u001b[0;36m\u001b[0m\n\u001b[0;31m    speechCommands = SpeechCommands()afsasfas\u001b[0m\n\u001b[0m                                     ^\u001b[0m\n\u001b[0;31mSyntaxError\u001b[0m\u001b[0;31m:\u001b[0m invalid syntax\n"
     ]
    }
   ],
   "source": [
    "speechCommands = SpeechCommands()afsasfas\n",
    "\n",
    "\n",
    "wtf is this"
   ]
  }
 ],
 "metadata": {
  "kernelspec": {
   "display_name": "Python 3 (ipykernel)",
   "language": "python",
   "name": "python3"
  },
  "language_info": {
   "codemirror_mode": {
    "name": "ipython",
    "version": 3
   },
   "file_extension": ".py",
   "mimetype": "text/x-python",
   "name": "python",
   "nbconvert_exporter": "python",
   "pygments_lexer": "ipython3",
   "version": "3.8.19"
  }
 },
 "nbformat": 4,
 "nbformat_minor": 5
}
