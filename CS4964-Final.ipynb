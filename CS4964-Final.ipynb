{
 "cells": [
  {
   "cell_type": "markdown",
   "id": "17eb3d45-191f-47df-916f-32ad1256a8e1",
   "metadata": {},
   "source": [
    "# CS 4964 - Spark Pi\n"
   ]
  },
  {
   "cell_type": "code",
   "execution_count": 4,
   "id": "15c41cb2-8d43-4d4b-9247-149ef6e1ae63",
   "metadata": {},
   "outputs": [
    {
     "ename": "SyntaxError",
     "evalue": "invalid syntax (4039548767.py, line 1)",
     "output_type": "error",
     "traceback": [
      "\u001b[0;36m  Cell \u001b[0;32mIn[4], line 1\u001b[0;36m\u001b[0m\n\u001b[0;31m    https://huggingface.co/datasets/speech_commands/viewer\u001b[0m\n\u001b[0m          ^\u001b[0m\n\u001b[0;31mSyntaxError\u001b[0m\u001b[0;31m:\u001b[0m invalid syntax\n"
     ]
    }
   ],
   "source": []
  }
 ],
 "metadata": {
  "kernelspec": {
   "display_name": "Python 3 (ipykernel)",
   "language": "python",
   "name": "python3"
  },
  "language_info": {
   "codemirror_mode": {
    "name": "ipython",
    "version": 3
   },
   "file_extension": ".py",
   "mimetype": "text/x-python",
   "name": "python",
   "nbconvert_exporter": "python",
   "pygments_lexer": "ipython3",
   "version": "3.11.6"
  }
 },
 "nbformat": 4,
 "nbformat_minor": 5
}
